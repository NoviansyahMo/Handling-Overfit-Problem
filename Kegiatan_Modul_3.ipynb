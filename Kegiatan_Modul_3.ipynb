{
  "nbformat": 4,
  "nbformat_minor": 0,
  "metadata": {
    "colab": {
      "name": "Kegiatan_Modul_3.ipynb",
      "provenance": [],
      "collapsed_sections": []
    },
    "kernelspec": {
      "name": "python3",
      "display_name": "Python 3"
    },
    "accelerator": "GPU"
  },
  "cells": [
    {
      "cell_type": "markdown",
      "metadata": {
        "id": "u6kTqqtESNnc"
      },
      "source": [
        "# **Kegiatan Modul 3**\n",
        "\n",
        "**Poin penilaian :**\n",
        "\n",
        "* Tingkat kesesuaian code\n",
        "* Tingkat kesesuaian output\n",
        "* Kesesuaian step preprocessing dan pemodelan\n",
        "* Kesesuaian jawaban dengan konten materi modul\n",
        "* Pemahaman materi tentang Dropout dan BatchNormalization\n",
        "* Dapat menerapkan semua konten materi dalam modul-modul sebelumnya\n",
        "* Kerapian kode program\n",
        "* Tidak ada error\n",
        "* Nilai Maksimal 100 poin"
      ]
    },
    {
      "cell_type": "markdown",
      "metadata": {
        "id": "-muSoJjnFt8y"
      },
      "source": [
        "## **Introduction**\n",
        "\n",
        "Dataset yang akan anda gunakan dalam kegiatan ini adalah dataset [Rock Paper Scissors](https://www.kaggle.com/drgfreeman/rockpaperscissors).  Demi mempermudah anda dalam mengerjakan modul ini maka akan sangat disarankan untuk menggunakan [google colab](https://colab.research.google.com/). Anda dapat menggunakan google colab untuk mendownload langsung dataset dari kaggle dan menyimpannya dalam google drive anda. Untuk kenyamanan dan ruang kerja yang besar akan lebih baik anda menggunakan email kampus untuk menyimpan dataset yang anda gunakan. Perhatikan langkah berikut untuk melakukan setting environment anda."
      ]
    },
    {
      "cell_type": "markdown",
      "metadata": {
        "id": "fLoYIWSbKgko"
      },
      "source": [
        "## **Get Your Dataset**\n",
        "\n",
        "* Mount drive terlebih dahulu\n",
        "\n",
        "* Untuk dapat mengakses dataset ini anda diharuskan memiliki akun kaggle. Jika belum memilikinya buat satu akun pribadi.\n",
        "\n",
        "* Download kaggle API.json kemudian upload dalam google drive anda.\n",
        "\n",
        "* Ubah lokasi direktori kerja anda ke direktori dimana anda menyimpan kaggle.json\n",
        "\n",
        "* Buka laman dataset kemudian Copy API Command.\n",
        "\n",
        "* Jalankan perintah untuk mendownload dataset dari kaggle menggunakan google colab.\n",
        "\n",
        "* Untuk selanjutnya pahami code dibawah dengan baik.\n",
        "\n",
        "* Gunakan tutorial berikut untuk lebih jelasnya : [Fetch Kaggle Dataset into Google Colab](https://medium.com/analytics-vidhya/how-to-fetch-kaggle-datasets-into-google-colab-ea682569851a)\n"
      ]
    },
    {
      "cell_type": "code",
      "metadata": {
        "id": "_iP7_H-5ubtG",
        "outputId": "fba44644-2e57-4e10-e5c0-1bcbb693fbd1",
        "colab": {
          "base_uri": "https://localhost:8080/"
        }
      },
      "source": [
        "from google.colab import drive\n",
        "drive.mount('/content/drive')"
      ],
      "execution_count": 1,
      "outputs": [
        {
          "output_type": "stream",
          "text": [
            "Mounted at /content/drive\n"
          ],
          "name": "stdout"
        }
      ]
    },
    {
      "cell_type": "code",
      "metadata": {
        "id": "fWkAcnefSPKI"
      },
      "source": [
        "# Define kaggle json path\n",
        "# Sesuaikan dengan path anda\n",
        "import os\n",
        "os.environ['KAGGLE_CONFIG_DIR'] = \"/content/drive/My Drive/modul3\""
      ],
      "execution_count": 3,
      "outputs": []
    },
    {
      "cell_type": "code",
      "metadata": {
        "id": "IPUJ-XM5S4Th",
        "outputId": "f04a2690-2377-495c-f904-5d4dd6670a64",
        "colab": {
          "base_uri": "https://localhost:8080/"
        }
      },
      "source": [
        "# Ubah lokasi direktori kerja\n",
        "# Sesuaikan dengan path anda\n",
        "%cd /content/drive/My Drive/modul3"
      ],
      "execution_count": 4,
      "outputs": [
        {
          "output_type": "stream",
          "text": [
            "/content/drive/My Drive/modul3\n"
          ],
          "name": "stdout"
        }
      ]
    },
    {
      "cell_type": "markdown",
      "metadata": {
        "id": "g8tGIV-bTmOE"
      },
      "source": [
        "Cek apakah api sudah terbaca oleh sistem"
      ]
    },
    {
      "cell_type": "code",
      "metadata": {
        "id": "69Bbmd-TCGhh",
        "outputId": "4d2acf94-0024-4357-b984-1e99c722605a",
        "colab": {
          "base_uri": "https://localhost:8080/"
        }
      },
      "source": [
        "# Cek apakah api sudah terbaca oleh sistem\n",
        "!ls  "
      ],
      "execution_count": 7,
      "outputs": [
        {
          "output_type": "stream",
          "text": [
            "kaggle.json  rockpaperscissors.zip\n"
          ],
          "name": "stdout"
        }
      ]
    },
    {
      "cell_type": "markdown",
      "metadata": {
        "id": "7wGGZC8vTX0A"
      },
      "source": [
        "* Paste API Command dari kaggle dataset yang telah anda copy sebelumnya dan tambahkan tanda seru didepannya.\n",
        "* Pastikan anda menggunakan akun google kampus untuk mendapatkan storage penyimpanan unlimited.\n",
        "* Lebih disarankan untuk menggunakan google colab karena proses download data lebih cepat dan stabil daripada download manual dan menggunakan jupyter notebook."
      ]
    },
    {
      "cell_type": "code",
      "metadata": {
        "id": "emSTR53KTGW9",
        "outputId": "3166d910-b9a8-41a8-e69b-2fd9a5e7184c",
        "colab": {
          "base_uri": "https://localhost:8080/"
        }
      },
      "source": [
        "!kaggle datasets download -d drgfreeman/rockpaperscissors"
      ],
      "execution_count": 6,
      "outputs": [
        {
          "output_type": "stream",
          "text": [
            "Downloading rockpaperscissors.zip to /content/drive/My Drive/modul3\n",
            " 99% 303M/306M [00:01<00:00, 182MB/s]\n",
            "100% 306M/306M [00:01<00:00, 180MB/s]\n"
          ],
          "name": "stdout"
        }
      ]
    },
    {
      "cell_type": "code",
      "metadata": {
        "id": "JcpagHVWbdDY",
        "outputId": "f55f249c-5fb2-4463-d75c-f409a7542f92",
        "colab": {
          "base_uri": "https://localhost:8080/"
        }
      },
      "source": [
        "# Cek isi direktori kerja dan memastikan dataset telah berhasil didownload.\n",
        "!ls"
      ],
      "execution_count": 9,
      "outputs": [
        {
          "output_type": "stream",
          "text": [
            "kaggle.json  rockpaperscissors.zip\n"
          ],
          "name": "stdout"
        }
      ]
    },
    {
      "cell_type": "code",
      "metadata": {
        "id": "3HDyNsR3bam4"
      },
      "source": [
        "# Ekstrak file dataset dan hapus file zip dataset agar tidak memakan banyak tempat.\n",
        "!unzip \\*.zip &> /dev/null && rm *.zip"
      ],
      "execution_count": 10,
      "outputs": []
    },
    {
      "cell_type": "code",
      "metadata": {
        "id": "Vgw_k1zihmkK",
        "outputId": "3d48ae0e-2458-4d65-99b4-06b27f9df848",
        "colab": {
          "base_uri": "https://localhost:8080/"
        }
      },
      "source": [
        "# Cek isi direktori kerja untuk memastikan dataset telah berhasil diekstrak.\n",
        "!ls"
      ],
      "execution_count": 11,
      "outputs": [
        {
          "output_type": "stream",
          "text": [
            "kaggle.json  paper  README_rpc-cv-images.txt  rock  rps-cv-images  scissors\n"
          ],
          "name": "stdout"
        }
      ]
    },
    {
      "cell_type": "markdown",
      "metadata": {
        "id": "AHa7xcuP5vsU"
      },
      "source": [
        "## **Prepare Your Data**"
      ]
    },
    {
      "cell_type": "markdown",
      "metadata": {
        "id": "dPVmxstVUvyL"
      },
      "source": [
        "### **Soal 1** \n",
        "poin 5\n",
        "\n",
        "---\n",
        "Terlihat disana bahwa ada file dan folder baru yaitu : `paper, rock, scissors, README_rpc-cv-images.txt`. Untuk tujuan mempermudah aksesabilitas dataset maka akan lebih baik semua folder dataset yang merepresentasikan kelasnya tersebut disimpan dalam satu folder bernama `dataset`. Tugas anda adalah membuat folder baru dan memindahkan semua folder tersebut folder `dataset`.\n",
        "\n",
        "Selanjutnya, anda akan ditugaskan untuk melakukan splitting dataset menjadi 3 bagian yaitu `train, test, val` oleh sebab itu anda perlu tempat khusus untuk menyimpan ketiga folder tersebut agar penyimpanan anda lebih rapi. Buatlah sebuah folder baru bernama `rockpaperscissors` dan masukkan folder `dataset` kedalamnya. Nanti kita juga akan menyimpan folder `train, test, val` kedalam folder `rockpaperscissors`.\n",
        "\n",
        "*Ingat google colab juga menerima command berbasis linux.*"
      ]
    },
    {
      "cell_type": "code",
      "metadata": {
        "id": "d0m6kXUQR1US"
      },
      "source": [
        "mkdir dataset"
      ],
      "execution_count": 12,
      "outputs": []
    },
    {
      "cell_type": "code",
      "metadata": {
        "id": "rXprYKJ00J5y"
      },
      "source": [
        "mv \"/content/drive/My Drive/modul3/paper/\" \"/content/drive/My Drive/modul3/dataset/\""
      ],
      "execution_count": 13,
      "outputs": []
    },
    {
      "cell_type": "code",
      "metadata": {
        "id": "GeU4rL-x5G6O"
      },
      "source": [
        "mv \"/content/drive/My Drive/modul3/rock/\" \"/content/drive/My Drive/modul3/dataset/\""
      ],
      "execution_count": 14,
      "outputs": []
    },
    {
      "cell_type": "code",
      "metadata": {
        "id": "n4AlxxOw5Juc"
      },
      "source": [
        "mv \"/content/drive/My Drive/modul3/scissors/\" \"/content/drive/My Drive/modul3/dataset/\""
      ],
      "execution_count": 15,
      "outputs": []
    },
    {
      "cell_type": "code",
      "metadata": {
        "id": "6Re0vwqYUPGD"
      },
      "source": [
        "mkdir rockpaperscissors"
      ],
      "execution_count": 16,
      "outputs": []
    },
    {
      "cell_type": "code",
      "metadata": {
        "id": "btUF38On5brX"
      },
      "source": [
        "mv \"/content/drive/My Drive/modul3/dataset/\" \"/content/drive/My Drive/modul3/rockpaperscissors/\""
      ],
      "execution_count": 17,
      "outputs": []
    },
    {
      "cell_type": "code",
      "metadata": {
        "id": "_DUas4-vJ6k7",
        "outputId": "ee3831e1-6c44-4188-a2b3-a260224a3d41",
        "colab": {
          "base_uri": "https://localhost:8080/"
        }
      },
      "source": [
        "!ls\n",
        "!ls rockpaperscissors"
      ],
      "execution_count": 19,
      "outputs": [
        {
          "output_type": "stream",
          "text": [
            "kaggle.json  README_rpc-cv-images.txt  rockpaperscissors  rps-cv-images\n",
            "dataset\n"
          ],
          "name": "stdout"
        }
      ]
    },
    {
      "cell_type": "markdown",
      "metadata": {
        "id": "FownsNlA1ws5"
      },
      "source": [
        "Bila anda melakukannya dengan benar, maka ketika anda menjalankan perintah dibawah anda akan menemui output sbb :\n",
        "\n",
        "**Output perintah `!ls`**\n",
        "```\n",
        " bbc_document_classification\t  kaggle.json\n",
        " big_mart_sales_forcasting\t  model.png\n",
        " Bird_Type\t\t\t  monkey_labels.txt\n",
        " BRAIN_TUMOR\t\t\t  Monkey_Species\n",
        " cats_and_dogs_filtered\t\t  PetImages\n",
        " dataset\t\t\t  README_rpc-cv-images.txt\n",
        " Diabetics_Retinopathy\t\t  Rice_Disease\n",
        " DS_CHEAT_SHEET\t\t\t  rockpaperscissors\n",
        " imdb_indonesian_movies_2.csv\t  rps-cv-images\n",
        "'Kaggle Download Dataset.ipynb'\n",
        "```\n",
        "\n",
        "**Output perintah `!ls rockpaperscissors`**\n",
        "```\n",
        " dataset\n",
        "```\n",
        "**Output perintah `!ls rockpaperscissors`**\n",
        "```\n",
        " paper  rock  scissors\n",
        "```\n",
        "\n"
      ]
    },
    {
      "cell_type": "code",
      "metadata": {
        "id": "cZuq9u-j59_4",
        "outputId": "2e1e2567-228a-4d5a-d8f8-2c7a99113601",
        "colab": {
          "base_uri": "https://localhost:8080/"
        }
      },
      "source": [
        "!ls"
      ],
      "execution_count": 20,
      "outputs": [
        {
          "output_type": "stream",
          "text": [
            "kaggle.json  README_rpc-cv-images.txt  rockpaperscissors  rps-cv-images\n"
          ],
          "name": "stdout"
        }
      ]
    },
    {
      "cell_type": "code",
      "metadata": {
        "id": "hBQZazI16Kij",
        "outputId": "ffbce65b-a2e0-47bb-89a8-f2dc942abd0e",
        "colab": {
          "base_uri": "https://localhost:8080/"
        }
      },
      "source": [
        "!ls rockpaperscissors"
      ],
      "execution_count": 21,
      "outputs": [
        {
          "output_type": "stream",
          "text": [
            "dataset\n"
          ],
          "name": "stdout"
        }
      ]
    },
    {
      "cell_type": "code",
      "metadata": {
        "id": "Mq3lR3oh6QhZ",
        "outputId": "b0fcb09d-0782-4940-a620-976ca2037254",
        "colab": {
          "base_uri": "https://localhost:8080/"
        }
      },
      "source": [
        "!ls rockpaperscissors/dataset"
      ],
      "execution_count": 22,
      "outputs": [
        {
          "output_type": "stream",
          "text": [
            "paper  rock  scissors\n"
          ],
          "name": "stdout"
        }
      ]
    },
    {
      "cell_type": "code",
      "metadata": {
        "id": "F-JngY7b0lmJ"
      },
      "source": [
        "base_dir=\"/content/drive/My Drive/modul3/rockpaperscissors\"\n",
        "data_dir=\"/content/drive/My Drive/modul3/rockpaperscissors/dataset\""
      ],
      "execution_count": 23,
      "outputs": []
    },
    {
      "cell_type": "markdown",
      "metadata": {
        "id": "6Y-OMhb1crH6"
      },
      "source": [
        "### **Soal 2**  *Opsional*\n",
        "\n",
        "poin 15\n",
        "\n",
        "---\n",
        "Sebelum dataset siap untuk dilakukan proses training anda perlu melakukan splitting dataset menjadi 3 bagian yaitu `train, test, val`. Data `train dan val` akan digunakan ketika anda melakukan training model. Dan data `test` akan anda gunakan ketika anda melakukan prediksi unseen data menggunakan model yang telah anda latih.\n",
        "\n",
        "* nilai full hanya untuk praktikan yang mampu menerapkan 2 baris code untuk splitting dataset"
      ]
    },
    {
      "cell_type": "code",
      "metadata": {
        "id": "ICEtTq1U-cE0",
        "outputId": "32466252-f585-4610-a69e-db0afd288897",
        "colab": {
          "base_uri": "https://localhost:8080/"
        }
      },
      "source": [
        "pip install split-folders"
      ],
      "execution_count": 24,
      "outputs": [
        {
          "output_type": "stream",
          "text": [
            "Collecting split-folders\n",
            "  Downloading https://files.pythonhosted.org/packages/b8/5f/3c2b2f7ea5e047c8cdc3bb00ae582c5438fcdbbedcc23b3cc1c2c7aae642/split_folders-0.4.3-py3-none-any.whl\n",
            "Installing collected packages: split-folders\n",
            "Successfully installed split-folders-0.4.3\n"
          ],
          "name": "stdout"
        }
      ]
    },
    {
      "cell_type": "code",
      "metadata": {
        "id": "E9_rvimipTEP",
        "outputId": "4d24b03e-dbc7-4de3-a004-9bee4e9b5b48",
        "colab": {
          "base_uri": "https://localhost:8080/"
        }
      },
      "source": [
        "import splitfolders\n",
        "splitfolders.ratio(data_dir, output=base_dir, seed=1337, ratio=(.7, .15, .15), group_prefix=None) # default values"
      ],
      "execution_count": 25,
      "outputs": [
        {
          "output_type": "stream",
          "text": [
            "Copying files: 2188 files [00:27, 78.99 files/s]\n"
          ],
          "name": "stderr"
        }
      ]
    },
    {
      "cell_type": "markdown",
      "metadata": {
        "id": "x_bZuRvRsd3I"
      },
      "source": [
        "Splitting dataset berhasil apabila dijalankan perintah `ls rockpaperscissors` maka akan menampilkan output seperti dibawah ini:\n",
        "\n",
        "```\n",
        "# dataset/  test/  train/  val/\n",
        "```\n",
        "\n"
      ]
    },
    {
      "cell_type": "code",
      "metadata": {
        "id": "XBlRnCI_AZY4",
        "outputId": "4d97ca30-8355-4cd0-926c-0e39924a6fc3",
        "colab": {
          "base_uri": "https://localhost:8080/"
        }
      },
      "source": [
        "ls rockpaperscissors"
      ],
      "execution_count": 26,
      "outputs": [
        {
          "output_type": "stream",
          "text": [
            "\u001b[0m\u001b[01;34mdataset\u001b[0m/  \u001b[01;34mtest\u001b[0m/  \u001b[01;34mtrain\u001b[0m/  \u001b[01;34mval\u001b[0m/\n"
          ],
          "name": "stdout"
        }
      ]
    },
    {
      "cell_type": "markdown",
      "metadata": {
        "id": "bGJNvpjE06bH"
      },
      "source": [
        "## **Data Preprocessing**\n",
        "\n",
        "Kita anggap dataset yang kita miliki merupakan dataset yang telah bersih dan siap digunakan untuk proses training model. Namun agar data yang kita miliki dapat diproses oleh model maka kita perlu melakukan sedikit pengolahan data. Kita perlu melakukan load dataset yang tersimpan dalam folder-folder kelas menggunakan generator dan melakukan sedikit proses augmentasi sederhana. \n",
        "\n",
        "\n",
        "**NOTE :** Penjelasan augmentasi secara detail akan dibahas pada modul selanjutnya. Disini kita akan mengunakan augmentasi sederhana saja seperti resize, flip dan rotation."
      ]
    },
    {
      "cell_type": "markdown",
      "metadata": {
        "id": "LE3_N5ZA3CkM"
      },
      "source": [
        "### **Soal 3**\n",
        "poin 20\n",
        "\n",
        "---\n",
        "\n",
        "Lakukan proses agumentasi sederhana dan setting dataset menggunakan generator dengan ketentuan **WAJIB** menyertakan proses berikut :\n",
        "\n",
        "* Resize\n",
        "* Rescaling\n",
        "* Color Mode\n",
        "* Shuffle\n",
        "* Class Mode\n",
        "\n",
        "Terapkan semua proses diatas pada data `train, test dan validation`.\n"
      ]
    },
    {
      "cell_type": "code",
      "metadata": {
        "id": "mThUU7Ai6ytp"
      },
      "source": [
        "# Definisikan path untuk data train test dan validation\n",
        "# sesuaikan dengan path anda\n",
        "\n",
        "train_path = os.path.join(base_dir,'train')\n",
        "test_path  = os.path.join(base_dir,'test')\n",
        "val_path   = os.path.join(base_dir,'val')"
      ],
      "execution_count": 27,
      "outputs": []
    },
    {
      "cell_type": "code",
      "metadata": {
        "id": "0r61d25Zoh_Z",
        "outputId": "723964ed-8610-418c-bcd3-87b6c1bea90c",
        "colab": {
          "base_uri": "https://localhost:8080/"
        }
      },
      "source": [
        "from keras.preprocessing.image import ImageDataGenerator\n",
        "from sklearn.utils import shuffle\n",
        "Batch_size=32\n",
        "augmen_gen = ImageDataGenerator(rescale=1. / 255,\n",
        "                            rotation_range=40,\n",
        "                            width_shift_range=0.2,\n",
        "                            height_shift_range=0.2,\n",
        "                            zoom_range=0.2,\n",
        "                            horizontal_flip=True,\n",
        "                            fill_mode='nearest')\n",
        "\n",
        "train_gen = augmen_gen.flow_from_directory(\n",
        "    train_path,\n",
        "    class_mode = 'categorical',\n",
        "    shuffle=True,\n",
        "    target_size = (224,224),\n",
        "    batch_size=Batch_size,\n",
        "    color_mode ='rgb'\n",
        ")\n",
        "\n",
        "val_gen = augmen_gen.flow_from_directory(\n",
        "    val_path,\n",
        "    class_mode = 'categorical',\n",
        "    shuffle=True,\n",
        "    target_size = (224,224),\n",
        "    batch_size=Batch_size,\n",
        "    color_mode ='rgb'\n",
        ")\n",
        "\n",
        "test_gen = augmen_gen.flow_from_directory(\n",
        "    test_path,\n",
        "    class_mode = 'categorical',\n",
        "    shuffle=False,\n",
        "    target_size = (224,224),\n",
        "    batch_size=Batch_size,\n",
        "    color_mode ='rgb',\n",
        ")\n"
      ],
      "execution_count": 28,
      "outputs": [
        {
          "output_type": "stream",
          "text": [
            "Found 1531 images belonging to 3 classes.\n",
            "Found 326 images belonging to 3 classes.\n",
            "Found 331 images belonging to 3 classes.\n"
          ],
          "name": "stdout"
        }
      ]
    },
    {
      "cell_type": "markdown",
      "metadata": {
        "id": "kqIE1t7R0zrA"
      },
      "source": [
        "## **Definisikan Model CNN**\n",
        "\n",
        "Sangat disarankan menggunakan GPU sebagai akselerator untuk mempercepat proses training. Oleh sebab itu akan sangat lebih baik bila menggunakan google colab dimana anda dapat meminjam GPU dari google secara gratis."
      ]
    },
    {
      "cell_type": "markdown",
      "metadata": {
        "id": "DmMY0uROUFqP"
      },
      "source": [
        "### **Soal 4**\n",
        "poin 60\n",
        "\n",
        "---\n",
        "\n",
        "Definisikan model CNN anda sebaik mungkin, model dan evaluasi yang anda bangun **WAJIB** memenuhi kriteria berikut:\n",
        "\n",
        "* Menerapkan proses Convolution \n",
        "* Menerapkan proses Pooling\n",
        "* Menerapkan Dropout\n",
        "* Menerpakan BatchNormalization\n",
        "* Evaluasi model menggunakan grafik loss dan accuracy\n",
        "* Evaluasi menggunakan classification report\n",
        "* Evaluasi menggunakan confusion matrix\n",
        "\n",
        "Bila anda telah melaksanakan semua item-item wajib diatas maka anda bisa mendapatkan penilaian yang sesuai dengan kriteria penilaian sbb: ***Bila tidak menerapkan salah satu dari item wajib maka penilaian di soal ini dianggap gugur***\n",
        "\n",
        "* Akurasi < 50% Nilai Max 20\n",
        "* Akurasi < 80% Nilai Max 30\n",
        "* Akurasi >= 80% Nilai Max 40\n",
        "\n",
        "Opsional untuk mendapatkan nilai tambah :\n",
        "* Menggunakan Callbacks  **Poin tambahan 5 poin**\n",
        "* Menggunakan Learning Rate  **Poin tambahan 5 poin**\n",
        "* Lakukan prediksi dengan data test, pastikan model anda dapat memprediksi unseen data dengan kelas yang benar ***dengan ketentuan dapat menampilkan gambar dan label prediksi dan probability score dari gambar yang diprediksikan***. **Poin tambahan 15 poin**\n",
        "* **Nilai tambahan 15 poin** apabila lama proses training model tidak lebih dari 15 menit dengan akurasi >90%"
      ]
    },
    {
      "cell_type": "code",
      "metadata": {
        "id": "PWp_YTCzIp5R"
      },
      "source": [
        "# IMPORT SEMUA PAKET YANG ANDA PERLUKAN UNTUK MENDEFINISIKAN MODEL DISINI\n",
        "from tensorflow.keras.models import Sequential\n",
        "from tensorflow.keras.layers import InputLayer, Dense, Conv2D, MaxPool2D, Flatten, BatchNormalization, Dropout\n",
        "from tensorflow.keras.callbacks import ModelCheckpoint, ReduceLROnPlateau, EarlyStopping\n",
        "from tensorflow.keras.optimizers import Adam\n",
        "import time"
      ],
      "execution_count": 30,
      "outputs": []
    },
    {
      "cell_type": "code",
      "metadata": {
        "id": "Mjl4kwq1XKJE"
      },
      "source": [
        "# MENDEFINISIKAN MODEL ANDA DISINI\n",
        "# Feature Extraction Layer\n",
        "model = Sequential()\n",
        "\n",
        "model.add(InputLayer(input_shape=[224,224,3]))\n",
        "model.add(Conv2D(filters=32, kernel_size=3, strides=1, padding='same', activation='relu'))\n",
        "model.add(MaxPool2D(pool_size=2, padding='same'))\n",
        "model.add(Conv2D(filters=64, kernel_size=3, strides=1, padding='same', activation='relu'))\n",
        "model.add(MaxPool2D(pool_size=2, padding='same'))\n",
        "model.add(Conv2D(filters=128, kernel_size=3, strides=1, padding='same', activation='relu'))\n",
        "model.add(MaxPool2D(pool_size=2, padding='same'))\n",
        "model.add(Dropout(0.25))\n",
        "model.add(BatchNormalization())\n",
        "model.add(Flatten())\n",
        "\n",
        "# Fully Connected Layer\n",
        "model.add(Dense(512, activation='relu'))\n",
        "model.add(Dropout(0.3))\n",
        "model.add(Dense(3, activation='softmax'))"
      ],
      "execution_count": 31,
      "outputs": []
    },
    {
      "cell_type": "code",
      "metadata": {
        "id": "dTQC-d65tO0e",
        "outputId": "ab2f7a57-165c-43cd-f28d-83550cba6177",
        "colab": {
          "base_uri": "https://localhost:8080/"
        }
      },
      "source": [
        "# TULIS CODE UNTUK MENAMPILKAN SUMMARY DARI ARSITEKTUR MODEL ANDA DISINI\n",
        "# Print model summary\n",
        "print(model.summary())"
      ],
      "execution_count": 32,
      "outputs": [
        {
          "output_type": "stream",
          "text": [
            "Model: \"sequential\"\n",
            "_________________________________________________________________\n",
            "Layer (type)                 Output Shape              Param #   \n",
            "=================================================================\n",
            "conv2d (Conv2D)              (None, 224, 224, 32)      896       \n",
            "_________________________________________________________________\n",
            "max_pooling2d (MaxPooling2D) (None, 112, 112, 32)      0         \n",
            "_________________________________________________________________\n",
            "conv2d_1 (Conv2D)            (None, 112, 112, 64)      18496     \n",
            "_________________________________________________________________\n",
            "max_pooling2d_1 (MaxPooling2 (None, 56, 56, 64)        0         \n",
            "_________________________________________________________________\n",
            "conv2d_2 (Conv2D)            (None, 56, 56, 128)       73856     \n",
            "_________________________________________________________________\n",
            "max_pooling2d_2 (MaxPooling2 (None, 28, 28, 128)       0         \n",
            "_________________________________________________________________\n",
            "dropout (Dropout)            (None, 28, 28, 128)       0         \n",
            "_________________________________________________________________\n",
            "batch_normalization (BatchNo (None, 28, 28, 128)       512       \n",
            "_________________________________________________________________\n",
            "flatten (Flatten)            (None, 100352)            0         \n",
            "_________________________________________________________________\n",
            "dense (Dense)                (None, 512)               51380736  \n",
            "_________________________________________________________________\n",
            "dropout_1 (Dropout)          (None, 512)               0         \n",
            "_________________________________________________________________\n",
            "dense_1 (Dense)              (None, 3)                 1539      \n",
            "=================================================================\n",
            "Total params: 51,476,035\n",
            "Trainable params: 51,475,779\n",
            "Non-trainable params: 256\n",
            "_________________________________________________________________\n",
            "None\n"
          ],
          "name": "stdout"
        }
      ]
    },
    {
      "cell_type": "code",
      "metadata": {
        "id": "lk-8KBYctRLn"
      },
      "source": [
        "# TULIS CODE CALLBACKS ANDA DISINI\n",
        "best_model_path = 'best_model.h5'\n",
        "checkpoint_callback = ModelCheckpoint(best_model_path,\n",
        "                                     monitor='val_accuracy',\n",
        "                                     save_best_only=True,\n",
        "                                     verbose=1)\n",
        "reduce_callback = ReduceLROnPlateau(monitor='val_accuracy', patience=3, factor=0.5, min_lr=0.000003, verbose=1)\n",
        "callbacks_list = [checkpoint_callback, reduce_callback]\n",
        "\n",
        "# early_stop = EarlyStopping(monitor='val_loss', mode='min', verbose=1, patience=5)"
      ],
      "execution_count": 33,
      "outputs": []
    },
    {
      "cell_type": "code",
      "metadata": {
        "id": "8tPPBmcDtYwi"
      },
      "source": [
        "# TULIS CODE UNTUK DEFINISI LEARNING RATE DISINI \n",
        "learning_rate=0.00001"
      ],
      "execution_count": 34,
      "outputs": []
    },
    {
      "cell_type": "code",
      "metadata": {
        "id": "2NHvlRG7tpgb"
      },
      "source": [
        "# TULIS CODE UNTUK TRAINING DISINI\n",
        "model.compile(loss='categorical_crossentropy',\n",
        "             optimizer=Adam(lr=learning_rate),\n",
        "             metrics='accuracy')\n"
      ],
      "execution_count": 35,
      "outputs": []
    },
    {
      "cell_type": "code",
      "metadata": {
        "id": "OIHye4dUNq5J",
        "outputId": "69fb6bf6-6c4a-493c-9f9e-a51114c4ab50",
        "colab": {
          "base_uri": "https://localhost:8080/"
        }
      },
      "source": [
        "# TULIS CODE UNTUK MENCETAK LAMA TRAINING TIME DISINI\n",
        "start = time.time()\n",
        "H = model.fit_generator(train_gen, epochs=25,validation_data=val_gen, validation_steps = 4, verbose=1, callbacks=[callbacks_list])\n",
        "\n",
        "End = time.time()\n",
        "print (\"training time: \", End-start,\"s\")  # the time would be round to 3 decimal in seconds"
      ],
      "execution_count": 36,
      "outputs": [
        {
          "output_type": "stream",
          "text": [
            "WARNING:tensorflow:From <ipython-input-36-6d488edcf8a6>:3: Model.fit_generator (from tensorflow.python.keras.engine.training) is deprecated and will be removed in a future version.\n",
            "Instructions for updating:\n",
            "Please use Model.fit, which supports generators.\n",
            "Epoch 1/25\n",
            " 2/48 [>.............................] - ETA: 1s - loss: 1.2129 - accuracy: 0.2969WARNING:tensorflow:Callbacks method `on_train_batch_end` is slow compared to the batch time (batch time: 0.0224s vs `on_train_batch_end` time: 0.0380s). Check your callbacks.\n",
            "48/48 [==============================] - ETA: 0s - loss: 1.1194 - accuracy: 0.4533\n",
            "Epoch 00001: val_accuracy improved from -inf to 0.39844, saving model to best_model.h5\n",
            "48/48 [==============================] - 23s 488ms/step - loss: 1.1194 - accuracy: 0.4533 - val_loss: 1.0813 - val_accuracy: 0.3984\n",
            "Epoch 2/25\n",
            "48/48 [==============================] - ETA: 0s - loss: 0.9636 - accuracy: 0.5539\n",
            "Epoch 00002: val_accuracy improved from 0.39844 to 0.57812, saving model to best_model.h5\n",
            "48/48 [==============================] - 25s 513ms/step - loss: 0.9636 - accuracy: 0.5539 - val_loss: 1.0609 - val_accuracy: 0.5781\n",
            "Epoch 3/25\n",
            "48/48 [==============================] - ETA: 0s - loss: 0.9061 - accuracy: 0.5918\n",
            "Epoch 00003: val_accuracy improved from 0.57812 to 0.72656, saving model to best_model.h5\n",
            "48/48 [==============================] - 25s 520ms/step - loss: 0.9061 - accuracy: 0.5918 - val_loss: 1.0351 - val_accuracy: 0.7266\n",
            "Epoch 4/25\n",
            "48/48 [==============================] - ETA: 0s - loss: 0.7795 - accuracy: 0.6577\n",
            "Epoch 00004: val_accuracy did not improve from 0.72656\n",
            "48/48 [==============================] - 23s 475ms/step - loss: 0.7795 - accuracy: 0.6577 - val_loss: 1.0215 - val_accuracy: 0.7031\n",
            "Epoch 5/25\n",
            "48/48 [==============================] - ETA: 0s - loss: 0.7079 - accuracy: 0.7133\n",
            "Epoch 00005: val_accuracy improved from 0.72656 to 0.76562, saving model to best_model.h5\n",
            "48/48 [==============================] - 24s 494ms/step - loss: 0.7079 - accuracy: 0.7133 - val_loss: 0.9640 - val_accuracy: 0.7656\n",
            "Epoch 6/25\n",
            "48/48 [==============================] - ETA: 0s - loss: 0.6325 - accuracy: 0.7413\n",
            "Epoch 00006: val_accuracy did not improve from 0.76562\n",
            "48/48 [==============================] - 23s 470ms/step - loss: 0.6325 - accuracy: 0.7413 - val_loss: 0.9295 - val_accuracy: 0.7031\n",
            "Epoch 7/25\n",
            "48/48 [==============================] - ETA: 0s - loss: 0.6036 - accuracy: 0.7681\n",
            "Epoch 00007: val_accuracy improved from 0.76562 to 0.81250, saving model to best_model.h5\n",
            "48/48 [==============================] - 24s 502ms/step - loss: 0.6036 - accuracy: 0.7681 - val_loss: 0.8352 - val_accuracy: 0.8125\n",
            "Epoch 8/25\n",
            "48/48 [==============================] - ETA: 0s - loss: 0.5392 - accuracy: 0.7910\n",
            "Epoch 00008: val_accuracy did not improve from 0.81250\n",
            "48/48 [==============================] - 23s 477ms/step - loss: 0.5392 - accuracy: 0.7910 - val_loss: 0.7887 - val_accuracy: 0.7891\n",
            "Epoch 9/25\n",
            "48/48 [==============================] - ETA: 0s - loss: 0.4927 - accuracy: 0.8184\n",
            "Epoch 00009: val_accuracy did not improve from 0.81250\n",
            "48/48 [==============================] - 21s 444ms/step - loss: 0.4927 - accuracy: 0.8184 - val_loss: 0.7350 - val_accuracy: 0.6797\n",
            "Epoch 10/25\n",
            "48/48 [==============================] - ETA: 0s - loss: 0.4706 - accuracy: 0.8217\n",
            "Epoch 00010: val_accuracy improved from 0.81250 to 0.85938, saving model to best_model.h5\n",
            "48/48 [==============================] - 24s 495ms/step - loss: 0.4706 - accuracy: 0.8217 - val_loss: 0.5845 - val_accuracy: 0.8594\n",
            "Epoch 11/25\n",
            "48/48 [==============================] - ETA: 0s - loss: 0.4289 - accuracy: 0.8432\n",
            "Epoch 00011: val_accuracy did not improve from 0.85938\n",
            "48/48 [==============================] - 23s 486ms/step - loss: 0.4289 - accuracy: 0.8432 - val_loss: 0.5236 - val_accuracy: 0.8438\n",
            "Epoch 12/25\n",
            "48/48 [==============================] - ETA: 0s - loss: 0.4076 - accuracy: 0.8530\n",
            "Epoch 00012: val_accuracy improved from 0.85938 to 0.86719, saving model to best_model.h5\n",
            "48/48 [==============================] - 24s 502ms/step - loss: 0.4076 - accuracy: 0.8530 - val_loss: 0.4716 - val_accuracy: 0.8672\n",
            "Epoch 13/25\n",
            "48/48 [==============================] - ETA: 0s - loss: 0.3658 - accuracy: 0.8687\n",
            "Epoch 00013: val_accuracy improved from 0.86719 to 0.89844, saving model to best_model.h5\n",
            "48/48 [==============================] - 26s 544ms/step - loss: 0.3658 - accuracy: 0.8687 - val_loss: 0.3793 - val_accuracy: 0.8984\n",
            "Epoch 14/25\n",
            "48/48 [==============================] - ETA: 0s - loss: 0.3803 - accuracy: 0.8589\n",
            "Epoch 00014: val_accuracy did not improve from 0.89844\n",
            "48/48 [==============================] - 23s 474ms/step - loss: 0.3803 - accuracy: 0.8589 - val_loss: 0.3528 - val_accuracy: 0.8594\n",
            "Epoch 15/25\n",
            "48/48 [==============================] - ETA: 0s - loss: 0.3503 - accuracy: 0.8792\n",
            "Epoch 00015: val_accuracy did not improve from 0.89844\n",
            "48/48 [==============================] - 21s 446ms/step - loss: 0.3503 - accuracy: 0.8792 - val_loss: 0.3288 - val_accuracy: 0.8906\n",
            "Epoch 16/25\n",
            "48/48 [==============================] - ETA: 0s - loss: 0.3368 - accuracy: 0.8831\n",
            "Epoch 00016: val_accuracy did not improve from 0.89844\n",
            "\n",
            "Epoch 00016: ReduceLROnPlateau reducing learning rate to 4.999999873689376e-06.\n",
            "48/48 [==============================] - 21s 443ms/step - loss: 0.3368 - accuracy: 0.8831 - val_loss: 0.2652 - val_accuracy: 0.8984\n",
            "Epoch 17/25\n",
            "48/48 [==============================] - ETA: 0s - loss: 0.2654 - accuracy: 0.9118\n",
            "Epoch 00017: val_accuracy improved from 0.89844 to 0.96875, saving model to best_model.h5\n",
            "48/48 [==============================] - 24s 501ms/step - loss: 0.2654 - accuracy: 0.9118 - val_loss: 0.1920 - val_accuracy: 0.9688\n",
            "Epoch 18/25\n",
            "48/48 [==============================] - ETA: 0s - loss: 0.2834 - accuracy: 0.9079\n",
            "Epoch 00018: val_accuracy did not improve from 0.96875\n",
            "48/48 [==============================] - 24s 501ms/step - loss: 0.2834 - accuracy: 0.9079 - val_loss: 0.3057 - val_accuracy: 0.8906\n",
            "Epoch 19/25\n",
            "48/48 [==============================] - ETA: 0s - loss: 0.2728 - accuracy: 0.9020\n",
            "Epoch 00019: val_accuracy did not improve from 0.96875\n",
            "48/48 [==============================] - 22s 450ms/step - loss: 0.2728 - accuracy: 0.9020 - val_loss: 0.2789 - val_accuracy: 0.8828\n",
            "Epoch 20/25\n",
            "48/48 [==============================] - ETA: 0s - loss: 0.2714 - accuracy: 0.9112\n",
            "Epoch 00020: val_accuracy did not improve from 0.96875\n",
            "\n",
            "Epoch 00020: ReduceLROnPlateau reducing learning rate to 3e-06.\n",
            "48/48 [==============================] - 22s 456ms/step - loss: 0.2714 - accuracy: 0.9112 - val_loss: 0.2734 - val_accuracy: 0.9141\n",
            "Epoch 21/25\n",
            "48/48 [==============================] - ETA: 0s - loss: 0.2554 - accuracy: 0.9184\n",
            "Epoch 00021: val_accuracy did not improve from 0.96875\n",
            "48/48 [==============================] - 22s 454ms/step - loss: 0.2554 - accuracy: 0.9184 - val_loss: 0.2579 - val_accuracy: 0.9062\n",
            "Epoch 22/25\n",
            "48/48 [==============================] - ETA: 0s - loss: 0.2569 - accuracy: 0.9184\n",
            "Epoch 00022: val_accuracy did not improve from 0.96875\n",
            "48/48 [==============================] - 21s 446ms/step - loss: 0.2569 - accuracy: 0.9184 - val_loss: 0.2086 - val_accuracy: 0.9375\n",
            "Epoch 23/25\n",
            "48/48 [==============================] - ETA: 0s - loss: 0.2557 - accuracy: 0.9197\n",
            "Epoch 00023: val_accuracy did not improve from 0.96875\n",
            "\n",
            "Epoch 00023: ReduceLROnPlateau reducing learning rate to 3e-06.\n",
            "48/48 [==============================] - 21s 448ms/step - loss: 0.2557 - accuracy: 0.9197 - val_loss: 0.1652 - val_accuracy: 0.9531\n",
            "Epoch 24/25\n",
            "48/48 [==============================] - ETA: 0s - loss: 0.2530 - accuracy: 0.9177\n",
            "Epoch 00024: val_accuracy did not improve from 0.96875\n",
            "48/48 [==============================] - 22s 449ms/step - loss: 0.2530 - accuracy: 0.9177 - val_loss: 0.1852 - val_accuracy: 0.9375\n",
            "Epoch 25/25\n",
            "48/48 [==============================] - ETA: 0s - loss: 0.2437 - accuracy: 0.9223\n",
            "Epoch 00025: val_accuracy did not improve from 0.96875\n",
            "48/48 [==============================] - 21s 446ms/step - loss: 0.2437 - accuracy: 0.9223 - val_loss: 0.1766 - val_accuracy: 0.9453\n",
            "training time:  592.3007054328918 s\n"
          ],
          "name": "stdout"
        }
      ]
    },
    {
      "cell_type": "markdown",
      "metadata": {
        "id": "qk59kdzr5AMT"
      },
      "source": [
        "# **Evaluate**"
      ]
    },
    {
      "cell_type": "code",
      "metadata": {
        "id": "4K8XoKgx5do6"
      },
      "source": [
        "# IMPORT SEMUA PAKET YANG ANDA PERLUKAN UNTUK MENGEVALUASI MODEL DISINI\n",
        "%matplotlib inline\n",
        "import matplotlib.pyplot as plt\n",
        "import numpy as np\n",
        "from keras.models import load_model\n",
        "from sklearn.metrics import classification_report, confusion_matrix"
      ],
      "execution_count": 37,
      "outputs": []
    },
    {
      "cell_type": "code",
      "metadata": {
        "id": "GVaP9dbG4wc9",
        "outputId": "8a458cff-380d-41d2-aa35-dc2210c8eac4",
        "colab": {
          "base_uri": "https://localhost:8080/"
        }
      },
      "source": [
        "# TULIS CODE UNTUK EVALUASI MODEL DISINI\n",
        "\n",
        "model.load_weights(best_model_path)\n",
        "\n",
        "ypred = model.predict(test_gen)\n",
        "predictions = np.argmax(ypred, axis = 1)\n",
        "# labels = (pred > 0.5).astype(np.int)\n",
        "print(classification_report(test_gen.classes,predictions))"
      ],
      "execution_count": 38,
      "outputs": [
        {
          "output_type": "stream",
          "text": [
            "              precision    recall  f1-score   support\n",
            "\n",
            "           0       0.89      0.93      0.91       108\n",
            "           1       0.93      0.96      0.95       110\n",
            "           2       0.94      0.88      0.91       113\n",
            "\n",
            "    accuracy                           0.92       331\n",
            "   macro avg       0.92      0.92      0.92       331\n",
            "weighted avg       0.92      0.92      0.92       331\n",
            "\n"
          ],
          "name": "stdout"
        }
      ]
    },
    {
      "cell_type": "code",
      "metadata": {
        "id": "XjOQkFIUR1oZ",
        "outputId": "aa7e5866-25b7-4beb-a0f5-a90bacfb8c5f",
        "colab": {
          "base_uri": "https://localhost:8080/",
          "height": 385
        }
      },
      "source": [
        "import itertools\n",
        "def plot_confusion_matrix(cm, classes,\n",
        "                          normalize=False,\n",
        "                          title='Confusion matrix',\n",
        "                          cmap=plt.cm.Blues):\n",
        "    if normalize:\n",
        "        cm = cm.astype('float') / cm.sum(axis=1)[:, np.newaxis]\n",
        "        print(\"Normalized confusion matrix\")\n",
        "    else:\n",
        "        print('Confusion matrix, without normalization')\n",
        "\n",
        "    print(cm)\n",
        "\n",
        "    plt.imshow(cm, interpolation='nearest', cmap=cmap)\n",
        "    plt.title(title)\n",
        "    plt.colorbar()\n",
        "    tick_marks = np.arange(len(classes))\n",
        "    plt.xticks(tick_marks, classes, rotation=45)\n",
        "    plt.yticks(tick_marks, classes)\n",
        "\n",
        "    fmt = '.2f' if normalize else 'd'\n",
        "    thresh = cm.max() / 2.\n",
        "    for i, j in itertools.product(range(cm.shape[0]), range(cm.shape[1])):\n",
        "        plt.text(j, i, format(cm[i, j], fmt),\n",
        "                 horizontalalignment=\"center\",\n",
        "                 color=\"white\" if cm[i, j] > thresh else \"black\")\n",
        "\n",
        "    plt.tight_layout()\n",
        "    plt.ylabel('True label')\n",
        "    plt.xlabel('Predicted label')\n",
        "\n",
        "cnf_matrix=confusion_matrix(test_gen.classes,predictions)\n",
        "plot_confusion_matrix(cnf_matrix, classes=test_gen.class_indices)"
      ],
      "execution_count": 39,
      "outputs": [
        {
          "output_type": "stream",
          "text": [
            "Confusion matrix, without normalization\n",
            "[[100   3   5]\n",
            " [  3 106   1]\n",
            " [  9   5  99]]\n"
          ],
          "name": "stdout"
        },
        {
          "output_type": "display_data",
          "data": {
            "image/png": "[encoded data removed]",
            "text/plain": [
              "<Figure size 432x288 with 2 Axes>"
            ]
          },
          "metadata": {
            "tags": [],
            "needs_background": "light"
          }
        }
      ]
    },
    {
      "cell_type": "code",
      "metadata": {
        "id": "d5ZkO3yN2c08",
        "outputId": "8b2a70ff-be26-4c8c-bf87-3610443a37b7",
        "colab": {
          "base_uri": "https://localhost:8080/",
          "height": 581
        }
      },
      "source": [
        "# TULIS CODE UNTUK PLOT EVALUASI MODEL DISINI\n",
        "plt.style.use(\"ggplot\")\n",
        "\n",
        "plt.plot(np.arange(0, 25), H.history[\"loss\"], label=\"train_loss\")\n",
        "plt.plot(np.arange(0, 25), H.history[\"val_loss\"], label=\"val_loss\")\n",
        "plt.title(\"Loss Plot\")\n",
        "plt.xlabel(\"Epoch #\")\n",
        "plt.ylabel(\"Loss\")\n",
        "plt.show()\n",
        "\n",
        "plt.plot(np.arange(0, 25), H.history[\"accuracy\"], label=\"train_acc\")\n",
        "plt.plot(np.arange(0, 25), H.history[\"val_accuracy\"], label=\"val_acc\")\n",
        "plt.title(\"Accuracy Plot\")\n",
        "plt.xlabel(\"Epoch #\")\n",
        "plt.ylabel(\"Accuracy\")\n",
        "plt.legend()\n",
        "plt.show()"
      ],
      "execution_count": 40,
      "outputs": [
        {
          "output_type": "display_data",
          "data": {
            "image/png": "[encoded data removed]",
            "text/plain": [
              "<Figure size 432x288 with 1 Axes>"
            ]
          },
          "metadata": {
            "tags": []
          }
        },
        {
          "output_type": "display_data",
          "data": {
            "image/png": "[encoded data removed]",
            "text/plain": [
              "<Figure size 432x288 with 1 Axes>"
            ]
          },
          "metadata": {
            "tags": []
          }
        }
      ]
    },
    {
      "cell_type": "code",
      "metadata": {
        "id": "9FZBVsIH46Bb",
        "outputId": "5fc029f2-a5b4-4950-b66f-34ee498ac518",
        "colab": {
          "base_uri": "https://localhost:8080/",
          "height": 374
        }
      },
      "source": [
        "# TULIS CODE UNTUK PREDIKSI DATA TEST DISINI\n",
        "\n",
        "import PIL\n",
        "\n",
        "def predictModel(image_path):\n",
        "    # Load and resize the image using PIL.\n",
        "    img = PIL.Image.open(image_path)\n",
        "    img_resized = img.resize((224, 224), PIL.Image.LANCZOS)\n",
        "\n",
        "    # Plot the image.\n",
        "    plt.imshow(img_resized)\n",
        "\n",
        "    # Convert the PIL image to a numpy-array with the proper shape.\n",
        "    img_array = np.expand_dims(np.array(img_resized), axis=0)\n",
        "\n",
        "    pred_coba = model.predict_classes(img_array)\n",
        "    ahoy = model.predict(img_array)\n",
        "    \n",
        "    labels = np.argmax(ahoy, axis=1)\n",
        "\n",
        "    plt.title(f\"Pred : {ahoy}\\nLabels : {labels}\")\n",
        "\n",
        "predictModel(\"/content/drive/My Drive/modul3/rockpaperscissors/test/rock/3wrX8EawcOolzrAY.png\")\n",
        "\n",
        "# num_pred=10\n",
        "# for i in range (num_pred):\n",
        "#   a=np.random(os.walk(test_path))\n",
        "#   predictModel(a)"
      ],
      "execution_count": 41,
      "outputs": [
        {
          "output_type": "stream",
          "text": [
            "WARNING:tensorflow:From <ipython-input-41-fbe8a2411c10>:16: Sequential.predict_classes (from tensorflow.python.keras.engine.sequential) is deprecated and will be removed after 2021-01-01.\n",
            "Instructions for updating:\n",
            "Please use instead:* `np.argmax(model.predict(x), axis=-1)`,   if your model does multi-class classification   (e.g. if it uses a `softmax` last-layer activation).* `(model.predict(x) > 0.5).astype(\"int32\")`,   if your model does binary classification   (e.g. if it uses a `sigmoid` last-layer activation).\n"
          ],
          "name": "stdout"
        },
        {
          "output_type": "display_data",
          "data": {
            "image/png": "[encoded data removed]",
            "text/plain": [
              "<Figure size 432x288 with 1 Axes>"
            ]
          },
          "metadata": {
            "tags": []
          }
        }
      ]
    },
    {
      "cell_type": "code",
      "metadata": {
        "id": "c8DQT_zyX8uf",
        "outputId": "a05f186a-03b0-4a9e-e30f-a7ad7c532753",
        "colab": {
          "base_uri": "https://localhost:8080/",
          "height": 265
        }
      },
      "source": [
        "import random\n",
        "img = random.choice(test_path)\n",
        "plt.plot(img)\n",
        "plt.show()"
      ],
      "execution_count": 42,
      "outputs": [
        {
          "output_type": "display_data",
          "data": {
            "image/png": "[encoded data removed]",
            "text/plain": [
              "<Figure size 432x288 with 1 Axes>"
            ]
          },
          "metadata": {
            "tags": []
          }
        }
      ]
    }
  ]
}