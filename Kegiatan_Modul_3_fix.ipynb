{
  "nbformat": 4,
  "nbformat_minor": 0,
  "metadata": {
    "colab": {
      "name": "Kegiatan Modul 3 fix.ipynb",
      "provenance": [],
      "collapsed_sections": [
        "fLoYIWSbKgko",
        "AHa7xcuP5vsU",
        "dPVmxstVUvyL",
        "6Y-OMhb1crH6",
        "bGJNvpjE06bH",
        "LE3_N5ZA3CkM",
        "kqIE1t7R0zrA",
        "DmMY0uROUFqP",
        "qk59kdzr5AMT"
      ]
    },
    "kernelspec": {
      "name": "python3",
      "display_name": "Python 3"
    },
    "accelerator": "GPU"
  },
  "cells": [
    {
      "cell_type": "markdown",
      "metadata": {
        "id": "u6kTqqtESNnc"
      },
      "source": [
        "# **Kegiatan Modul 3**\n",
        "\n",
        "**Poin penilaian :**\n",
        "\n",
        "* Tingkat kesesuaian code\n",
        "* Tingkat kesesuaian output\n",
        "* Kesesuaian step preprocessing dan pemodelan\n",
        "* Kesesuaian jawaban dengan konten materi modul\n",
        "* Pemahaman materi tentang Dropout dan BatchNormalization\n",
        "* Dapat menerapkan semua konten materi dalam modul-modul sebelumnya\n",
        "* Kerapian kode program\n",
        "* Tidak ada error\n",
        "* Nilai Maksimal 100 poin"
      ]
    },
    {
      "cell_type": "markdown",
      "metadata": {
        "id": "-muSoJjnFt8y"
      },
      "source": [
        "## **Introduction**\n",
        "\n",
        "Dataset yang akan anda gunakan dalam kegiatan ini adalah dataset [Rock Paper Scissors](https://www.kaggle.com/drgfreeman/rockpaperscissors).  Demi mempermudah anda dalam mengerjakan modul ini maka akan sangat disarankan untuk menggunakan [google colab](https://colab.research.google.com/). Anda dapat menggunakan google colab untuk mendownload langsung dataset dari kaggle dan menyimpannya dalam google drive anda. Untuk kenyamanan dan ruang kerja yang besar akan lebih baik anda menggunakan email kampus untuk menyimpan dataset yang anda gunakan. Perhatikan langkah berikut untuk melakukan setting environment anda."
      ]
    },
    {
      "cell_type": "markdown",
      "metadata": {
        "id": "fLoYIWSbKgko"
      },
      "source": [
        "## **Get Your Dataset**\n",
        "\n",
        "* Mount drive terlebih dahulu\n",
        "\n",
        "* Untuk dapat mengakses dataset ini anda diharuskan memiliki akun kaggle. Jika belum memilikinya buat satu akun pribadi.\n",
        "\n",
        "* Download kaggle API.json kemudian upload dalam google drive anda.\n",
        "\n",
        "* Ubah lokasi direktori kerja anda ke direktori dimana anda menyimpan kaggle.json\n",
        "\n",
        "* Buka laman dataset kemudian Copy API Command.\n",
        "\n",
        "* Jalankan perintah untuk mendownload dataset dari kaggle menggunakan google colab.\n",
        "\n",
        "* Untuk selanjutnya pahami code dibawah dengan baik.\n",
        "\n",
        "* Gunakan tutorial berikut untuk lebih jelasnya : [Fetch Kaggle Dataset into Google Colab](https://medium.com/analytics-vidhya/how-to-fetch-kaggle-datasets-into-google-colab-ea682569851a)\n"
      ]
    },
    {
      "cell_type": "code",
      "metadata": {
        "id": "_iP7_H-5ubtG",
        "outputId": "2ce8946d-f36f-44a0-e671-f2b84dce72e5",
        "colab": {
          "base_uri": "https://localhost:8080/"
        }
      },
      "source": [
        "from google.colab import drive\n",
        "drive.mount('/content/drive')"
      ],
      "execution_count": 1,
      "outputs": [
        {
          "output_type": "stream",
          "text": [
            "Mounted at /content/drive\n"
          ],
          "name": "stdout"
        }
      ]
    },
    {
      "cell_type": "code",
      "metadata": {
        "id": "fWkAcnefSPKI"
      },
      "source": [
        "# Define kaggle json path\n",
        "# Sesuaikan dengan path anda\n",
        "import os\n",
        "os.environ['KAGGLE_CONFIG_DIR'] = \"/content/drive/My Drive/modul3\""
      ],
      "execution_count": 13,
      "outputs": []
    },
    {
      "cell_type": "code",
      "metadata": {
        "id": "IPUJ-XM5S4Th",
        "outputId": "f6f9d956-d948-4613-ec83-a47ab4bf997a",
        "colab": {
          "base_uri": "https://localhost:8080/"
        }
      },
      "source": [
        "# Ubah lokasi direktori kerja\n",
        "# Sesuaikan dengan path anda\n",
        "%cd /content/drive/My Drive/modul3"
      ],
      "execution_count": 4,
      "outputs": [
        {
          "output_type": "stream",
          "text": [
            "/content/drive/My Drive/modul3\n"
          ],
          "name": "stdout"
        }
      ]
    },
    {
      "cell_type": "markdown",
      "metadata": {
        "id": "g8tGIV-bTmOE"
      },
      "source": [
        "Cek apakah api sudah terbaca oleh sistem"
      ]
    },
    {
      "cell_type": "code",
      "metadata": {
        "id": "69Bbmd-TCGhh",
        "outputId": "49507b7b-9c1a-47b8-f40a-910621a0b5ae",
        "colab": {
          "base_uri": "https://localhost:8080/"
        }
      },
      "source": [
        "# Cek apakah api sudah terbaca oleh sistem\n",
        "!ls  "
      ],
      "execution_count": 4,
      "outputs": [
        {
          "output_type": "stream",
          "text": [
            "kaggle.json  README_rpc-cv-images.txt  rockpaperscissors  rps-cv-images\n"
          ],
          "name": "stdout"
        }
      ]
    },
    {
      "cell_type": "markdown",
      "metadata": {
        "id": "7wGGZC8vTX0A"
      },
      "source": [
        "* Paste API Command dari kaggle dataset yang telah anda copy sebelumnya dan tambahkan tanda seru didepannya.\n",
        "* Pastikan anda menggunakan akun google kampus untuk mendapatkan storage penyimpanan unlimited.\n",
        "* Lebih disarankan untuk menggunakan google colab karena proses download data lebih cepat dan stabil daripada download manual dan menggunakan jupyter notebook."
      ]
    },
    {
      "cell_type": "code",
      "metadata": {
        "id": "emSTR53KTGW9",
        "outputId": "c0ab10c2-d2c8-4701-8a30-cf47d98a32e6",
        "colab": {
          "base_uri": "https://localhost:8080/"
        }
      },
      "source": [
        "!kaggle datasets download -d drgfreeman/rockpaperscissors"
      ],
      "execution_count": 6,
      "outputs": [
        {
          "output_type": "stream",
          "text": [
            "Downloading rockpaperscissors.zip to /content/drive/My Drive/modul3\n",
            " 99% 302M/306M [00:01<00:00, 177MB/s]\n",
            "100% 306M/306M [00:01<00:00, 175MB/s]\n"
          ],
          "name": "stdout"
        }
      ]
    },
    {
      "cell_type": "code",
      "metadata": {
        "id": "JcpagHVWbdDY",
        "outputId": "d7defaae-9812-4921-9e88-fbb3bd157a8a",
        "colab": {
          "base_uri": "https://localhost:8080/"
        }
      },
      "source": [
        "# Cek isi direktori kerja dan memastikan dataset telah berhasil didownload.\n",
        "!ls"
      ],
      "execution_count": 7,
      "outputs": [
        {
          "output_type": "stream",
          "text": [
            "kaggle.json  rockpaperscissors.zip\n"
          ],
          "name": "stdout"
        }
      ]
    },
    {
      "cell_type": "code",
      "metadata": {
        "id": "3HDyNsR3bam4"
      },
      "source": [
        "# Ekstrak file dataset dan hapus file zip dataset agar tidak memakan banyak tempat.\n",
        "!unzip \\*.zip &> /dev/null && rm *.zip"
      ],
      "execution_count": 8,
      "outputs": []
    },
    {
      "cell_type": "code",
      "metadata": {
        "id": "Vgw_k1zihmkK",
        "outputId": "0bdfee0e-1b64-4264-e020-2a6db5dc95f8",
        "colab": {
          "base_uri": "https://localhost:8080/"
        }
      },
      "source": [
        "# Cek isi direktori kerja untuk memastikan dataset telah berhasil diekstrak.\n",
        "!ls"
      ],
      "execution_count": 9,
      "outputs": [
        {
          "output_type": "stream",
          "text": [
            "kaggle.json  paper  README_rpc-cv-images.txt  rock  rps-cv-images  scissors\n"
          ],
          "name": "stdout"
        }
      ]
    },
    {
      "cell_type": "markdown",
      "metadata": {
        "id": "AHa7xcuP5vsU"
      },
      "source": [
        "## **Prepare Your Data**"
      ]
    },
    {
      "cell_type": "markdown",
      "metadata": {
        "id": "dPVmxstVUvyL"
      },
      "source": [
        "### **Soal 1** \n",
        "poin 5\n",
        "\n",
        "---\n",
        "Terlihat disana bahwa ada file dan folder baru yaitu : `paper, rock, scissors, README_rpc-cv-images.txt`. Untuk tujuan mempermudah aksesabilitas dataset maka akan lebih baik semua folder dataset yang merepresentasikan kelasnya tersebut disimpan dalam satu folder bernama `dataset`. Tugas anda adalah membuat folder baru dan memindahkan semua folder tersebut folder `dataset`.\n",
        "\n",
        "Selanjutnya, anda akan ditugaskan untuk melakukan splitting dataset menjadi 3 bagian yaitu `train, test, val` oleh sebab itu anda perlu tempat khusus untuk menyimpan ketiga folder tersebut agar penyimpanan anda lebih rapi. Buatlah sebuah folder baru bernama `rockpaperscissors` dan masukkan folder `dataset` kedalamnya. Nanti kita juga akan menyimpan folder `train, test, val` kedalam folder `rockpaperscissors`.\n",
        "\n",
        "*Ingat google colab juga menerima command berbasis linux.*"
      ]
    },
    {
      "cell_type": "code",
      "metadata": {
        "id": "d0m6kXUQR1US"
      },
      "source": [
        "mkdir dataset"
      ],
      "execution_count": 10,
      "outputs": []
    },
    {
      "cell_type": "code",
      "metadata": {
        "id": "rXprYKJ00J5y"
      },
      "source": [
        "mv \"/content/drive/My Drive/modul3/paper/\" \"/content/drive/My Drive/modul3/dataset/\""
      ],
      "execution_count": 12,
      "outputs": []
    },
    {
      "cell_type": "code",
      "metadata": {
        "id": "GeU4rL-x5G6O"
      },
      "source": [
        "mv \"/content/drive/My Drive/modul3/rock/\" \"/content/drive/My Drive/modul3/dataset/\""
      ],
      "execution_count": 13,
      "outputs": []
    },
    {
      "cell_type": "code",
      "metadata": {
        "id": "n4AlxxOw5Juc"
      },
      "source": [
        "mv \"/content/drive/My Drive/modul3/scissors/\" \"/content/drive/My Drive/modul3/dataset/\""
      ],
      "execution_count": 14,
      "outputs": []
    },
    {
      "cell_type": "code",
      "metadata": {
        "id": "6Re0vwqYUPGD"
      },
      "source": [
        "mkdir rockpaperscissors"
      ],
      "execution_count": 15,
      "outputs": []
    },
    {
      "cell_type": "code",
      "metadata": {
        "id": "btUF38On5brX"
      },
      "source": [
        "mv \"/content/drive/My Drive/modul3/dataset/\" \"/content/drive/My Drive/modul3/rockpaperscissors/\""
      ],
      "execution_count": 17,
      "outputs": []
    },
    {
      "cell_type": "markdown",
      "metadata": {
        "id": "FownsNlA1ws5"
      },
      "source": [
        "Bila anda melakukannya dengan benar, maka ketika anda menjalankan perintah dibawah anda akan menemui output sbb :\n",
        "\n",
        "**Output perintah `!ls`**\n",
        "```\n",
        " bbc_document_classification\t  kaggle.json\n",
        " big_mart_sales_forcasting\t  model.png\n",
        " Bird_Type\t\t\t  monkey_labels.txt\n",
        " BRAIN_TUMOR\t\t\t  Monkey_Species\n",
        " cats_and_dogs_filtered\t\t  PetImages\n",
        " dataset\t\t\t  README_rpc-cv-images.txt\n",
        " Diabetics_Retinopathy\t\t  Rice_Disease\n",
        " DS_CHEAT_SHEET\t\t\t  rockpaperscissors\n",
        " imdb_indonesian_movies_2.csv\t  rps-cv-images\n",
        "'Kaggle Download Dataset.ipynb'\n",
        "```\n",
        "\n",
        "**Output perintah `!ls rockpaperscissors`**\n",
        "```\n",
        " dataset\n",
        "```\n",
        "**Output perintah `!ls rockpaperscissors`**\n",
        "```\n",
        " paper  rock  scissors\n",
        "```\n",
        "\n"
      ]
    },
    {
      "cell_type": "code",
      "metadata": {
        "id": "cZuq9u-j59_4",
        "outputId": "a1174f35-07ae-4024-d8de-a17ba3e00249",
        "colab": {
          "base_uri": "https://localhost:8080/"
        }
      },
      "source": [
        "!ls"
      ],
      "execution_count": 7,
      "outputs": [
        {
          "output_type": "stream",
          "text": [
            "kaggle.json  README_rpc-cv-images.txt  rockpaperscissors  rps-cv-images\n"
          ],
          "name": "stdout"
        }
      ]
    },
    {
      "cell_type": "code",
      "metadata": {
        "id": "hBQZazI16Kij",
        "outputId": "34848c81-d2c9-4bdc-d416-07d2ebc3c3aa",
        "colab": {
          "base_uri": "https://localhost:8080/"
        }
      },
      "source": [
        "!ls rockpaperscissors"
      ],
      "execution_count": 8,
      "outputs": [
        {
          "output_type": "stream",
          "text": [
            "dataset  test  train  val\n"
          ],
          "name": "stdout"
        }
      ]
    },
    {
      "cell_type": "code",
      "metadata": {
        "id": "Mq3lR3oh6QhZ",
        "outputId": "0353cb8b-3639-4451-c9d8-437ba517f142",
        "colab": {
          "base_uri": "https://localhost:8080/"
        }
      },
      "source": [
        "!ls rockpaperscissors/dataset"
      ],
      "execution_count": 9,
      "outputs": [
        {
          "output_type": "stream",
          "text": [
            "paper  rock  scissors\n"
          ],
          "name": "stdout"
        }
      ]
    },
    {
      "cell_type": "code",
      "metadata": {
        "id": "F-JngY7b0lmJ"
      },
      "source": [
        "base_dir=\"/content/drive/My Drive/modul3/rockpaperscissors\"\n",
        "data_dir=\"/content/drive/My Drive/modul3/rockpaperscissors/dataset\""
      ],
      "execution_count": 10,
      "outputs": []
    },
    {
      "cell_type": "markdown",
      "metadata": {
        "id": "6Y-OMhb1crH6"
      },
      "source": [
        "### **Soal 2**  *Opsional*\n",
        "\n",
        "poin 15\n",
        "\n",
        "---\n",
        "Sebelum dataset siap untuk dilakukan proses training anda perlu melakukan splitting dataset menjadi 3 bagian yaitu `train, test, val`. Data `train dan val` akan digunakan ketika anda melakukan training model. Dan data `test` akan anda gunakan ketika anda melakukan prediksi unseen data menggunakan model yang telah anda latih.\n",
        "\n",
        "* nilai full hanya untuk praktikan yang mampu menerapkan 2 baris code untuk splitting dataset"
      ]
    },
    {
      "cell_type": "code",
      "metadata": {
        "id": "ICEtTq1U-cE0",
        "outputId": "e8ef1790-63d8-48a0-d19a-b6a891f5c50c",
        "colab": {
          "base_uri": "https://localhost:8080/"
        }
      },
      "source": [
        "pip install split-folders"
      ],
      "execution_count": 21,
      "outputs": [
        {
          "output_type": "stream",
          "text": [
            "Collecting split-folders\n",
            "  Downloading https://files.pythonhosted.org/packages/b8/5f/3c2b2f7ea5e047c8cdc3bb00ae582c5438fcdbbedcc23b3cc1c2c7aae642/split_folders-0.4.3-py3-none-any.whl\n",
            "Installing collected packages: split-folders\n",
            "Successfully installed split-folders-0.4.3\n"
          ],
          "name": "stdout"
        }
      ]
    },
    {
      "cell_type": "code",
      "metadata": {
        "id": "E9_rvimipTEP",
        "outputId": "1d1255fe-a01f-429d-879e-647b34214b7c",
        "colab": {
          "base_uri": "https://localhost:8080/"
        }
      },
      "source": [
        "import splitfolders\n",
        "splitfolders.ratio(data_dir, output=base_dir, seed=1337, ratio=(.7, .15, .15), group_prefix=None) # default values"
      ],
      "execution_count": 23,
      "outputs": [
        {
          "output_type": "stream",
          "text": [
            "\n",
            "Copying files: 0 files [00:00, ? files/s]\u001b[A\n",
            "Copying files: 1 files [00:00,  5.59 files/s]\u001b[A\n",
            "Copying files: 15 files [00:00,  7.85 files/s]\u001b[A\n",
            "Copying files: 20 files [00:00, 10.32 files/s]\u001b[A\n",
            "Copying files: 34 files [00:00, 14.28 files/s]\u001b[A\n",
            "Copying files: 42 files [00:00, 17.85 files/s]\u001b[A\n",
            "Copying files: 54 files [00:00, 23.00 files/s]\u001b[A\n",
            "Copying files: 68 files [00:00, 30.60 files/s]\u001b[A\n",
            "Copying files: 77 files [00:01, 36.48 files/s]\u001b[A\n",
            "Copying files: 89 files [00:01, 43.13 files/s]\u001b[A\n",
            "Copying files: 105 files [00:01, 55.07 files/s]\u001b[A\n",
            "Copying files: 116 files [00:01, 58.88 files/s]\u001b[A\n",
            "Copying files: 126 files [00:01, 61.17 files/s]\u001b[A\n",
            "Copying files: 142 files [00:01, 66.33 files/s]\u001b[A\n",
            "Copying files: 158 files [00:01, 79.59 files/s]\u001b[A\n",
            "Copying files: 169 files [00:02, 77.56 files/s]\u001b[A\n",
            "Copying files: 179 files [00:02, 70.98 files/s]\u001b[A\n",
            "Copying files: 192 files [00:02, 72.02 files/s]\u001b[A\n",
            "Copying files: 208 files [00:02, 74.43 files/s]\u001b[A\n",
            "Copying files: 224 files [00:02, 87.96 files/s]\u001b[A\n",
            "Copying files: 235 files [00:02, 81.59 files/s]\u001b[A\n",
            "Copying files: 245 files [00:03, 73.34 files/s]\u001b[A\n",
            "Copying files: 258 files [00:03, 73.18 files/s]\u001b[A\n",
            "Copying files: 274 files [00:03, 76.13 files/s]\u001b[A\n",
            "Copying files: 288 files [00:03, 88.09 files/s]\u001b[A\n",
            "Copying files: 298 files [00:03, 81.02 files/s]\u001b[A\n",
            "Copying files: 307 files [00:03, 71.61 files/s]\u001b[A\n",
            "Copying files: 322 files [00:04, 73.16 files/s]\u001b[A\n",
            "Copying files: 336 files [00:04, 84.86 files/s]\u001b[A\n",
            "Copying files: 346 files [00:04, 78.93 files/s]\u001b[A\n",
            "Copying files: 355 files [00:04, 70.16 files/s]\u001b[A\n",
            "Copying files: 369 files [00:04, 71.37 files/s]\u001b[A\n",
            "Copying files: 384 files [00:04, 84.55 files/s]\u001b[A\n",
            "Copying files: 394 files [00:04, 75.55 files/s]\u001b[A\n",
            "Copying files: 403 files [00:05, 70.06 files/s]\u001b[A\n",
            "Copying files: 416 files [00:05, 70.42 files/s]\u001b[A\n",
            "Copying files: 427 files [00:05, 78.04 files/s]\u001b[A\n",
            "Copying files: 436 files [00:05, 76.20 files/s]\u001b[A\n",
            "Copying files: 447 files [00:05, 72.49 files/s]\u001b[A\n",
            "Copying files: 457 files [00:05, 76.72 files/s]\u001b[A\n",
            "Copying files: 466 files [00:05, 78.22 files/s]\u001b[A\n",
            "Copying files: 478 files [00:06, 74.24 files/s]\u001b[A\n",
            "Copying files: 492 files [00:06, 86.16 files/s]\u001b[A\n",
            "Copying files: 502 files [00:06, 62.01 files/s]\u001b[A\n",
            "Copying files: 510 files [00:06, 56.75 files/s]\u001b[A\n",
            "Copying files: 522 files [00:06, 60.84 files/s]\u001b[A\n",
            "Copying files: 535 files [00:06, 72.06 files/s]\u001b[A\n",
            "Copying files: 544 files [00:07, 71.22 files/s]\u001b[A\n",
            "Copying files: 554 files [00:07, 67.25 files/s]\u001b[A\n",
            "Copying files: 568 files [00:07, 79.34 files/s]\u001b[A\n",
            "Copying files: 578 files [00:07, 76.40 files/s]\u001b[A\n",
            "Copying files: 587 files [00:07, 70.22 files/s]\u001b[A\n",
            "Copying files: 603 files [00:07, 72.58 files/s]\u001b[A\n",
            "Copying files: 617 files [00:07, 84.40 files/s]\u001b[A\n",
            "Copying files: 627 files [00:08, 63.26 files/s]\u001b[A\n",
            "Copying files: 638 files [00:08, 66.31 files/s]\u001b[A\n",
            "Copying files: 653 files [00:08, 79.61 files/s]\u001b[A\n",
            "Copying files: 663 files [00:08, 77.67 files/s]\u001b[A\n",
            "Copying files: 674 files [00:08, 74.57 files/s]\u001b[A\n",
            "Copying files: 689 files [00:08, 87.13 files/s]\u001b[A\n",
            "Copying files: 700 files [00:08, 82.62 files/s]\u001b[A\n",
            "Copying files: 710 files [00:09, 76.16 files/s]\u001b[A\n",
            "Copying files: 719 files [00:09, 61.91 files/s]\u001b[A\n",
            "Copying files: 727 files [00:09, 54.55 files/s]\u001b[A\n",
            "Copying files: 742 files [00:09, 67.11 files/s]\u001b[A\n",
            "Copying files: 751 files [00:09, 66.80 files/s]\u001b[A\n",
            "Copying files: 760 files [00:09, 64.14 files/s]\u001b[A\n",
            "Copying files: 776 files [00:10, 68.47 files/s]\u001b[A\n",
            "Copying files: 792 files [00:10, 82.16 files/s]\u001b[A\n",
            "Copying files: 802 files [00:10, 76.47 files/s]\u001b[A\n",
            "Copying files: 811 files [00:10, 71.67 files/s]\u001b[A\n",
            "Copying files: 827 files [00:10, 73.72 files/s]\u001b[A\n",
            "Copying files: 842 files [00:10, 86.56 files/s]\u001b[A\n",
            "Copying files: 853 files [00:10, 82.02 files/s]\u001b[A\n",
            "Copying files: 863 files [00:11, 74.13 files/s]\u001b[A\n",
            "Copying files: 876 files [00:11, 73.31 files/s]\u001b[A\n",
            "Copying files: 891 files [00:11, 73.72 files/s]\u001b[A\n",
            "Copying files: 907 files [00:11, 87.46 files/s]\u001b[A\n",
            "Copying files: 918 files [00:11, 81.26 files/s]\u001b[A\n",
            "Copying files: 928 files [00:11, 74.17 files/s]\u001b[A\n",
            "Copying files: 940 files [00:12, 71.93 files/s]\u001b[A\n",
            "Copying files: 954 files [00:12, 83.62 files/s]\u001b[A\n",
            "Copying files: 964 files [00:12, 76.01 files/s]\u001b[A\n",
            "Copying files: 973 files [00:12, 70.01 files/s]\u001b[A\n",
            "Copying files: 986 files [00:12, 70.16 files/s]\u001b[A\n",
            "Copying files: 1001 files [00:12, 71.80 files/s]\u001b[A\n",
            "Copying files: 1016 files [00:12, 85.06 files/s]\u001b[A\n",
            "Copying files: 1026 files [00:13, 76.81 files/s]\u001b[A\n",
            "Copying files: 1035 files [00:13, 69.59 files/s]\u001b[A\n",
            "Copying files: 1047 files [00:13, 59.48 files/s]\u001b[A\n",
            "Copying files: 1059 files [00:13, 69.68 files/s]\u001b[A\n",
            "Copying files: 1068 files [00:13, 66.98 files/s]\u001b[A\n",
            "Copying files: 1078 files [00:13, 65.31 files/s]\u001b[A\n",
            "Copying files: 1092 files [00:14, 77.33 files/s]\u001b[A\n",
            "Copying files: 1102 files [00:14, 73.05 files/s]\u001b[A\n",
            "Copying files: 1111 files [00:14, 68.63 files/s]\u001b[A\n",
            "Copying files: 1124 files [00:14, 68.51 files/s]\u001b[A\n",
            "Copying files: 1137 files [00:14, 79.83 files/s]\u001b[A\n",
            "Copying files: 1147 files [00:14, 74.26 files/s]\u001b[A\n",
            "Copying files: 1156 files [00:14, 68.70 files/s]\u001b[A\n",
            "Copying files: 1169 files [00:15, 68.85 files/s]\u001b[A\n",
            "Copying files: 1182 files [00:15, 79.67 files/s]\u001b[A\n",
            "Copying files: 1191 files [00:15, 73.39 files/s]\u001b[A\n",
            "Copying files: 1200 files [00:15, 68.07 files/s]\u001b[A\n",
            "Copying files: 1214 files [00:15, 80.17 files/s]\u001b[A\n",
            "Copying files: 1224 files [00:15, 75.12 files/s]\u001b[A\n",
            "Copying files: 1233 files [00:15, 68.47 files/s]\u001b[A\n",
            "Copying files: 1248 files [00:16, 72.00 files/s]\u001b[A\n",
            "Copying files: 1262 files [00:16, 83.51 files/s]\u001b[A\n",
            "Copying files: 1272 files [00:16, 79.95 files/s]\u001b[A\n",
            "Copying files: 1282 files [00:16, 73.95 files/s]\u001b[A\n",
            "Copying files: 1298 files [00:16, 75.83 files/s]\u001b[A\n",
            "Copying files: 1313 files [00:16, 89.04 files/s]\u001b[A\n",
            "Copying files: 1324 files [00:17, 80.79 files/s]\u001b[A\n",
            "Copying files: 1334 files [00:17, 76.41 files/s]\u001b[A\n",
            "Copying files: 1350 files [00:17, 78.67 files/s]\u001b[A\n",
            "Copying files: 1365 files [00:17, 91.20 files/s]\u001b[A\n",
            "Copying files: 1376 files [00:17, 84.33 files/s]\u001b[A\n",
            "Copying files: 1386 files [00:17, 77.26 files/s]\u001b[A\n",
            "Copying files: 1400 files [00:17, 75.41 files/s]\u001b[A\n",
            "Copying files: 1415 files [00:18, 76.25 files/s]\u001b[A\n",
            "Copying files: 1428 files [00:18, 87.01 files/s]\u001b[A\n",
            "Copying files: 1438 files [00:18, 81.43 files/s]\u001b[A\n",
            "Copying files: 1447 files [00:18, 50.28 files/s]\u001b[A\n",
            "Copying files: 1462 files [00:18, 62.64 files/s]\u001b[A\n",
            "Copying files: 1472 files [00:19, 61.20 files/s]\u001b[A\n",
            "Copying files: 1482 files [00:19, 58.11 files/s]\u001b[A\n",
            "Copying files: 1495 files [00:19, 69.60 files/s]\u001b[A\n",
            "Copying files: 1504 files [00:19, 64.30 files/s]\u001b[A\n",
            "Copying files: 1516 files [00:19, 66.23 files/s]\u001b[A\n",
            "Copying files: 1532 files [00:19, 80.04 files/s]\u001b[A\n",
            "Copying files: 1543 files [00:19, 75.42 files/s]\u001b[A\n",
            "Copying files: 1553 files [00:20, 71.49 files/s]\u001b[A\n",
            "Copying files: 1566 files [00:20, 72.86 files/s]\u001b[A\n",
            "Copying files: 1580 files [00:20, 82.92 files/s]\u001b[A\n",
            "Copying files: 1590 files [00:20, 78.34 files/s]\u001b[A\n",
            "Copying files: 1599 files [00:20, 71.93 files/s]\u001b[A\n",
            "Copying files: 1613 files [00:20, 84.10 files/s]\u001b[A\n",
            "Copying files: 1623 files [00:20, 76.81 files/s]\u001b[A\n",
            "Copying files: 1632 files [00:21, 71.16 files/s]\u001b[A\n",
            "Copying files: 1645 files [00:21, 81.55 files/s]\u001b[A\n",
            "Copying files: 1655 files [00:21, 77.23 files/s]\u001b[A\n",
            "Copying files: 1664 files [00:21, 70.92 files/s]\u001b[A\n",
            "Copying files: 1678 files [00:21, 72.17 files/s]\u001b[A\n",
            "Copying files: 1692 files [00:21, 84.19 files/s]\u001b[A\n",
            "Copying files: 1702 files [00:21, 75.07 files/s]\u001b[A\n",
            "Copying files: 1711 files [00:22, 69.28 files/s]\u001b[A\n",
            "Copying files: 1725 files [00:22, 70.44 files/s]\u001b[A\n",
            "Copying files: 1741 files [00:22, 72.86 files/s]\u001b[A\n",
            "Copying files: 1756 files [00:22, 73.58 files/s]\u001b[A\n",
            "Copying files: 1770 files [00:22, 85.51 files/s]\u001b[A\n",
            "Copying files: 1780 files [00:22, 79.19 files/s]\u001b[A\n",
            "Copying files: 1789 files [00:23, 70.49 files/s]\u001b[A\n",
            "Copying files: 1802 files [00:23, 71.41 files/s]\u001b[A\n",
            "Copying files: 1817 files [00:23, 72.22 files/s]\u001b[A\n",
            "Copying files: 1831 files [00:23, 84.07 files/s]\u001b[A\n",
            "Copying files: 1841 files [00:23, 78.77 files/s]\u001b[A\n",
            "Copying files: 1850 files [00:23, 69.62 files/s]\u001b[A\n",
            "Copying files: 1864 files [00:24, 70.78 files/s]\u001b[A\n",
            "Copying files: 1873 files [00:24, 75.08 files/s]\u001b[A\n",
            "Copying files: 1881 files [00:24, 50.05 files/s]\u001b[A\n",
            "Copying files: 1894 files [00:24, 53.02 files/s]\u001b[A\n",
            "Copying files: 1908 files [00:24, 64.81 files/s]\u001b[A\n",
            "Copying files: 1917 files [00:24, 64.96 files/s]\u001b[A\n",
            "Copying files: 1925 files [00:25, 60.13 files/s]\u001b[A\n",
            "Copying files: 1940 files [00:25, 72.93 files/s]\u001b[A\n",
            "Copying files: 1950 files [00:25, 67.21 files/s]\u001b[A\n",
            "Copying files: 1959 files [00:25, 65.86 files/s]\u001b[A\n",
            "Copying files: 1972 files [00:25, 67.85 files/s]\u001b[A\n",
            "Copying files: 1988 files [00:25, 81.60 files/s]\u001b[A\n",
            "Copying files: 1998 files [00:25, 76.71 files/s]\u001b[A\n",
            "Copying files: 2007 files [00:26, 68.66 files/s]\u001b[A\n",
            "Copying files: 2023 files [00:26, 73.59 files/s]\u001b[A\n",
            "Copying files: 2035 files [00:26, 83.20 files/s]\u001b[A\n",
            "Copying files: 2045 files [00:26, 80.01 files/s]\u001b[A\n",
            "Copying files: 2056 files [00:26, 75.12 files/s]\u001b[A\n",
            "Copying files: 2071 files [00:26, 87.91 files/s]\u001b[A\n",
            "Copying files: 2082 files [00:26, 82.05 files/s]\u001b[A\n",
            "Copying files: 2092 files [00:27, 75.44 files/s]\u001b[A\n",
            "Copying files: 2106 files [00:27, 75.13 files/s]\u001b[A\n",
            "Copying files: 2119 files [00:27, 85.67 files/s]\u001b[A\n",
            "Copying files: 2129 files [00:27, 81.70 files/s]\u001b[A\n",
            "Copying files: 2139 files [00:27, 75.01 files/s]\u001b[A\n",
            "Copying files: 2154 files [00:27, 88.07 files/s]\u001b[A\n",
            "Copying files: 2165 files [00:27, 82.76 files/s]\u001b[A\n",
            "Copying files: 2188 files [00:28, 77.72 files/s]\n"
          ],
          "name": "stderr"
        }
      ]
    },
    {
      "cell_type": "markdown",
      "metadata": {
        "id": "x_bZuRvRsd3I"
      },
      "source": [
        "Splitting dataset berhasil apabila dijalankan perintah `ls rockpaperscissors` maka akan menampilkan output seperti dibawah ini:\n",
        "\n",
        "```\n",
        "# dataset/  test/  train/  val/\n",
        "```\n",
        "\n"
      ]
    },
    {
      "cell_type": "code",
      "metadata": {
        "id": "XBlRnCI_AZY4",
        "outputId": "ca527708-9bfc-47d6-8c1a-346246857ca7",
        "colab": {
          "base_uri": "https://localhost:8080/"
        }
      },
      "source": [
        "ls rockpaperscissors"
      ],
      "execution_count": 11,
      "outputs": [
        {
          "output_type": "stream",
          "text": [
            "\u001b[0m\u001b[01;34mdataset\u001b[0m/  \u001b[01;34mtest\u001b[0m/  \u001b[01;34mtrain\u001b[0m/  \u001b[01;34mval\u001b[0m/\n"
          ],
          "name": "stdout"
        }
      ]
    },
    {
      "cell_type": "markdown",
      "metadata": {
        "id": "bGJNvpjE06bH"
      },
      "source": [
        "## **Data Preprocessing**\n",
        "\n",
        "Kita anggap dataset yang kita miliki merupakan dataset yang telah bersih dan siap digunakan untuk proses training model. Namun agar data yang kita miliki dapat diproses oleh model maka kita perlu melakukan sedikit pengolahan data. Kita perlu melakukan load dataset yang tersimpan dalam folder-folder kelas menggunakan generator dan melakukan sedikit proses augmentasi sederhana. \n",
        "\n",
        "\n",
        "**NOTE :** Penjelasan augmentasi secara detail akan dibahas pada modul selanjutnya. Disini kita akan mengunakan augmentasi sederhana saja seperti resize, flip dan rotation."
      ]
    },
    {
      "cell_type": "markdown",
      "metadata": {
        "id": "LE3_N5ZA3CkM"
      },
      "source": [
        "### **Soal 3**\n",
        "poin 20\n",
        "\n",
        "---\n",
        "\n",
        "Lakukan proses agumentasi sederhana dan setting dataset menggunakan generator dengan ketentuan **WAJIB** menyertakan proses berikut :\n",
        "\n",
        "* Resize\n",
        "* Rescaling\n",
        "* Color Mode\n",
        "* Shuffle\n",
        "* Class Mode\n",
        "\n",
        "Terapkan semua proses diatas pada data `train, test dan validation`.\n"
      ]
    },
    {
      "cell_type": "code",
      "metadata": {
        "id": "mThUU7Ai6ytp"
      },
      "source": [
        "# Definisikan path untuk data train test dan validation\n",
        "# sesuaikan dengan path anda\n",
        "\n",
        "train_path = os.path.join(base_dir,'train')\n",
        "test_path  = os.path.join(base_dir,'test')\n",
        "val_path   = os.path.join(base_dir,'val')"
      ],
      "execution_count": 14,
      "outputs": []
    },
    {
      "cell_type": "code",
      "metadata": {
        "id": "0r61d25Zoh_Z",
        "outputId": "b946a9c9-8618-4318-e03e-5eae674546b3",
        "colab": {
          "base_uri": "https://localhost:8080/"
        }
      },
      "source": [
        "from keras.preprocessing.image import ImageDataGenerator\n",
        "from sklearn.utils import shuffle\n",
        "Batch_size=32\n",
        "augmen_gen = ImageDataGenerator(rescale=1. / 255,\n",
        "                            rotation_range=40,\n",
        "                            width_shift_range=0.2,\n",
        "                            height_shift_range=0.2,\n",
        "                            zoom_range=0.2,\n",
        "                            horizontal_flip=True,\n",
        "                            fill_mode='nearest')\n",
        "\n",
        "train_gen = augmen_gen.flow_from_directory(\n",
        "    train_path,\n",
        "    class_mode = 'categorical',\n",
        "    shuffle=True,\n",
        "    target_size = (224,224),\n",
        "    batch_size=Batch_size,\n",
        "    color_mode ='rgb'\n",
        ")\n",
        "\n",
        "val_gen = augmen_gen.flow_from_directory(\n",
        "    val_path,\n",
        "    class_mode = 'categorical',\n",
        "    shuffle=True,\n",
        "    target_size = (224,224),\n",
        "    batch_size=Batch_size,\n",
        "    color_mode ='rgb'\n",
        ")\n",
        "\n",
        "test_gen = augmen_gen.flow_from_directory(\n",
        "    test_path,\n",
        "    class_mode = 'categorical',\n",
        "    shuffle=False,\n",
        "    target_size = (224,224),\n",
        "    batch_size=Batch_size,\n",
        "    color_mode ='rgb',\n",
        ")\n"
      ],
      "execution_count": 128,
      "outputs": [
        {
          "output_type": "stream",
          "text": [
            "Found 1531 images belonging to 3 classes.\n",
            "Found 326 images belonging to 3 classes.\n",
            "Found 331 images belonging to 3 classes.\n"
          ],
          "name": "stdout"
        }
      ]
    },
    {
      "cell_type": "markdown",
      "metadata": {
        "id": "kqIE1t7R0zrA"
      },
      "source": [
        "## **Definisikan Model CNN**\n",
        "\n",
        "Sangat disarankan menggunakan GPU sebagai akselerator untuk mempercepat proses training. Oleh sebab itu akan sangat lebih baik bila menggunakan google colab dimana anda dapat meminjam GPU dari google secara gratis."
      ]
    },
    {
      "cell_type": "markdown",
      "metadata": {
        "id": "DmMY0uROUFqP"
      },
      "source": [
        "### **Soal 4**\n",
        "poin 60\n",
        "\n",
        "---\n",
        "\n",
        "Definisikan model CNN anda sebaik mungkin, model dan evaluasi yang anda bangun **WAJIB** memenuhi kriteria berikut:\n",
        "\n",
        "* Menerapkan proses Convolution \n",
        "* Menerapkan proses Pooling\n",
        "* Menerapkan Dropout\n",
        "* Menerpakan BatchNormalization\n",
        "* Evaluasi model menggunakan grafik loss dan accuracy\n",
        "* Evaluasi menggunakan classification report\n",
        "* Evaluasi menggunakan confusion matrix\n",
        "\n",
        "Bila anda telah melaksanakan semua item-item wajib diatas maka anda bisa mendapatkan penilaian yang sesuai dengan kriteria penilaian sbb: ***Bila tidak menerapkan salah satu dari item wajib maka penilaian di soal ini dianggap gugur***\n",
        "\n",
        "* Akurasi < 50% Nilai Max 20\n",
        "* Akurasi < 80% Nilai Max 30\n",
        "* Akurasi >= 80% Nilai Max 40\n",
        "\n",
        "Opsional untuk mendapatkan nilai tambah :\n",
        "* Menggunakan Callbacks  **Poin tambahan 5 poin**\n",
        "* Menggunakan Learning Rate  **Poin tambahan 5 poin**\n",
        "* Lakukan prediksi dengan data test, pastikan model anda dapat memprediksi unseen data dengan kelas yang benar ***dengan ketentuan dapat menampilkan gambar dan label prediksi dan probability score dari gambar yang diprediksikan***. **Poin tambahan 15 poin**\n",
        "* **Nilai tambahan 15 poin** apabila lama proses training model tidak lebih dari 15 menit dengan akurasi >90%"
      ]
    },
    {
      "cell_type": "code",
      "metadata": {
        "id": "PWp_YTCzIp5R"
      },
      "source": [
        "# IMPORT SEMUA PAKET YANG ANDA PERLUKAN UNTUK MENDEFINISIKAN MODEL DISINI\n",
        "from tensorflow.keras.models import Sequential\n",
        "from tensorflow.keras.layers import InputLayer, Dense, Conv2D, MaxPool2D, Flatten, BatchNormalization, Dropout\n",
        "from tensorflow.keras.callbacks import ModelCheckpoint, ReduceLROnPlateau, EarlyStopping\n",
        "from tensorflow.keras.optimizers import Adam\n",
        "import time"
      ],
      "execution_count": 24,
      "outputs": []
    },
    {
      "cell_type": "code",
      "metadata": {
        "id": "Mjl4kwq1XKJE"
      },
      "source": [
        "# DEFINISIKAN MODEL ANDA DISINI\n",
        "# Feature Extraction Layer\n",
        "model = Sequential()\n",
        "\n",
        "model.add(InputLayer(input_shape=[224,224,3]))\n",
        "model.add(Conv2D(filters=32, kernel_size=3, strides=1, padding='same', activation='relu'))\n",
        "model.add(MaxPool2D(pool_size=2, padding='same'))\n",
        "model.add(Conv2D(filters=64, kernel_size=3, strides=1, padding='same', activation='relu'))\n",
        "model.add(MaxPool2D(pool_size=2, padding='same'))\n",
        "model.add(Conv2D(filters=128, kernel_size=3, strides=1, padding='same', activation='relu'))\n",
        "model.add(MaxPool2D(pool_size=2, padding='same'))\n",
        "model.add(Dropout(0.25))\n",
        "model.add(BatchNormalization())\n",
        "model.add(Flatten())\n",
        "\n",
        "# Fully Connected Layer\n",
        "model.add(Dense(512, activation='relu'))\n",
        "model.add(Dropout(0.3))\n",
        "model.add(Dense(3, activation='softmax'))"
      ],
      "execution_count": 88,
      "outputs": []
    },
    {
      "cell_type": "code",
      "metadata": {
        "id": "dTQC-d65tO0e",
        "outputId": "f1a21043-274c-4e8e-9846-e5b73cd66c8d",
        "colab": {
          "base_uri": "https://localhost:8080/"
        }
      },
      "source": [
        "# TULIS CODE UNTUK MENAMPILKAN SUMMARY DARI ARSITEKTUR MODEL ANDA DISINI\n",
        "# Print model summary\n",
        "print(model.summary())"
      ],
      "execution_count": 89,
      "outputs": [
        {
          "output_type": "stream",
          "text": [
            "Model: \"sequential_4\"\n",
            "_________________________________________________________________\n",
            "Layer (type)                 Output Shape              Param #   \n",
            "=================================================================\n",
            "conv2d_12 (Conv2D)           (None, 224, 224, 32)      896       \n",
            "_________________________________________________________________\n",
            "max_pooling2d_12 (MaxPooling (None, 112, 112, 32)      0         \n",
            "_________________________________________________________________\n",
            "conv2d_13 (Conv2D)           (None, 112, 112, 64)      18496     \n",
            "_________________________________________________________________\n",
            "max_pooling2d_13 (MaxPooling (None, 56, 56, 64)        0         \n",
            "_________________________________________________________________\n",
            "conv2d_14 (Conv2D)           (None, 56, 56, 128)       73856     \n",
            "_________________________________________________________________\n",
            "max_pooling2d_14 (MaxPooling (None, 28, 28, 128)       0         \n",
            "_________________________________________________________________\n",
            "dropout_12 (Dropout)         (None, 28, 28, 128)       0         \n",
            "_________________________________________________________________\n",
            "batch_normalization_8 (Batch (None, 28, 28, 128)       512       \n",
            "_________________________________________________________________\n",
            "flatten_4 (Flatten)          (None, 100352)            0         \n",
            "_________________________________________________________________\n",
            "dense_8 (Dense)              (None, 512)               51380736  \n",
            "_________________________________________________________________\n",
            "dropout_13 (Dropout)         (None, 512)               0         \n",
            "_________________________________________________________________\n",
            "dense_9 (Dense)              (None, 3)                 1539      \n",
            "=================================================================\n",
            "Total params: 51,476,035\n",
            "Trainable params: 51,475,779\n",
            "Non-trainable params: 256\n",
            "_________________________________________________________________\n",
            "None\n"
          ],
          "name": "stdout"
        }
      ]
    },
    {
      "cell_type": "code",
      "metadata": {
        "id": "lk-8KBYctRLn"
      },
      "source": [
        "# TULIS CODE CALLBACKS ANDA DISINI\n",
        "best_model_path = 'best_model.h5'\n",
        "checkpoint_callback = ModelCheckpoint(best_model_path,\n",
        "                                     monitor='val_accuracy',\n",
        "                                     save_best_only=True,\n",
        "                                     verbose=1)\n",
        "reduce_callback = ReduceLROnPlateau(monitor='val_accuracy', patience=3, factor=0.5, min_lr=0.000003, verbose=1)\n",
        "callbacks_list = [checkpoint_callback, reduce_callback]\n",
        "\n",
        "# early_stop = EarlyStopping(monitor='val_loss', mode='min', verbose=1, patience=5)"
      ],
      "execution_count": 90,
      "outputs": []
    },
    {
      "cell_type": "code",
      "metadata": {
        "id": "8tPPBmcDtYwi"
      },
      "source": [
        "# TULIS CODE UNTUK DEFINISI LEARNING RATE DISINI \n",
        "learning_rate=0.00001"
      ],
      "execution_count": 91,
      "outputs": []
    },
    {
      "cell_type": "code",
      "metadata": {
        "id": "2NHvlRG7tpgb"
      },
      "source": [
        "# TULIS CODE UNTUK TRAINING DISINI\n",
        "model.compile(loss='categorical_crossentropy',\n",
        "             optimizer=Adam(lr=learning_rate),\n",
        "             metrics='accuracy')\n"
      ],
      "execution_count": 92,
      "outputs": []
    },
    {
      "cell_type": "code",
      "metadata": {
        "id": "OIHye4dUNq5J",
        "outputId": "80e36b0f-eaea-4df9-9ac1-43c77f90184b",
        "colab": {
          "base_uri": "https://localhost:8080/"
        }
      },
      "source": [
        "# TULIS CODE UNTUK MENCETAK LAMA TRAINING TIME DISINI\n",
        "start = time.time()\n",
        "H = model.fit_generator(train_gen, epochs=25,validation_data=val_gen, validation_steps = 4, verbose=1, callbacks=[callbacks_list])\n",
        "\n",
        "End = time.time()\n",
        "print (\"training time: \", End-start,\"s\")  # the time would be round to 3 decimal in seconds"
      ],
      "execution_count": 93,
      "outputs": [
        {
          "output_type": "stream",
          "text": [
            "Epoch 1/25\n",
            "48/48 [==============================] - ETA: 0s - loss: 1.1479 - accuracy: 0.4422\n",
            "Epoch 00001: val_accuracy improved from -inf to 0.33594, saving model to best_model.h5\n",
            "48/48 [==============================] - 24s 502ms/step - loss: 1.1479 - accuracy: 0.4422 - val_loss: 1.0761 - val_accuracy: 0.3359\n",
            "Epoch 2/25\n",
            "48/48 [==============================] - ETA: 0s - loss: 0.9534 - accuracy: 0.5474\n",
            "Epoch 00002: val_accuracy improved from 0.33594 to 0.51562, saving model to best_model.h5\n",
            "48/48 [==============================] - 26s 535ms/step - loss: 0.9534 - accuracy: 0.5474 - val_loss: 1.0527 - val_accuracy: 0.5156\n",
            "Epoch 3/25\n",
            "48/48 [==============================] - ETA: 0s - loss: 0.8852 - accuracy: 0.6101\n",
            "Epoch 00003: val_accuracy improved from 0.51562 to 0.69531, saving model to best_model.h5\n",
            "48/48 [==============================] - 26s 532ms/step - loss: 0.8852 - accuracy: 0.6101 - val_loss: 1.0324 - val_accuracy: 0.6953\n",
            "Epoch 4/25\n",
            "48/48 [==============================] - ETA: 0s - loss: 0.7803 - accuracy: 0.6813\n",
            "Epoch 00004: val_accuracy improved from 0.69531 to 0.75000, saving model to best_model.h5\n",
            "48/48 [==============================] - 26s 536ms/step - loss: 0.7803 - accuracy: 0.6813 - val_loss: 0.9879 - val_accuracy: 0.7500\n",
            "Epoch 5/25\n",
            "48/48 [==============================] - ETA: 0s - loss: 0.6680 - accuracy: 0.7368\n",
            "Epoch 00005: val_accuracy improved from 0.75000 to 0.76562, saving model to best_model.h5\n",
            "48/48 [==============================] - 25s 530ms/step - loss: 0.6680 - accuracy: 0.7368 - val_loss: 0.9381 - val_accuracy: 0.7656\n",
            "Epoch 6/25\n",
            "48/48 [==============================] - ETA: 0s - loss: 0.5847 - accuracy: 0.7694\n",
            "Epoch 00006: val_accuracy did not improve from 0.76562\n",
            "48/48 [==============================] - 23s 471ms/step - loss: 0.5847 - accuracy: 0.7694 - val_loss: 0.9056 - val_accuracy: 0.7031\n",
            "Epoch 7/25\n",
            "48/48 [==============================] - ETA: 0s - loss: 0.5410 - accuracy: 0.7825\n",
            "Epoch 00007: val_accuracy did not improve from 0.76562\n",
            "48/48 [==============================] - 21s 445ms/step - loss: 0.5410 - accuracy: 0.7825 - val_loss: 0.8187 - val_accuracy: 0.7656\n",
            "Epoch 8/25\n",
            "48/48 [==============================] - ETA: 0s - loss: 0.4723 - accuracy: 0.8250\n",
            "Epoch 00008: val_accuracy improved from 0.76562 to 0.78906, saving model to best_model.h5\n",
            "48/48 [==============================] - 24s 500ms/step - loss: 0.4723 - accuracy: 0.8250 - val_loss: 0.7554 - val_accuracy: 0.7891\n",
            "Epoch 9/25\n",
            "48/48 [==============================] - ETA: 0s - loss: 0.4608 - accuracy: 0.8465\n",
            "Epoch 00009: val_accuracy improved from 0.78906 to 0.81250, saving model to best_model.h5\n",
            "48/48 [==============================] - 25s 524ms/step - loss: 0.4608 - accuracy: 0.8465 - val_loss: 0.6958 - val_accuracy: 0.8125\n",
            "Epoch 10/25\n",
            "48/48 [==============================] - ETA: 0s - loss: 0.4129 - accuracy: 0.8485\n",
            "Epoch 00010: val_accuracy did not improve from 0.81250\n",
            "48/48 [==============================] - 23s 471ms/step - loss: 0.4129 - accuracy: 0.8485 - val_loss: 0.6570 - val_accuracy: 0.7266\n",
            "Epoch 11/25\n",
            "48/48 [==============================] - ETA: 0s - loss: 0.3680 - accuracy: 0.8707\n",
            "Epoch 00011: val_accuracy improved from 0.81250 to 0.87500, saving model to best_model.h5\n",
            "48/48 [==============================] - 24s 507ms/step - loss: 0.3680 - accuracy: 0.8707 - val_loss: 0.4947 - val_accuracy: 0.8750\n",
            "Epoch 12/25\n",
            "48/48 [==============================] - ETA: 0s - loss: 0.3774 - accuracy: 0.8668\n",
            "Epoch 00012: val_accuracy improved from 0.87500 to 0.90625, saving model to best_model.h5\n",
            "48/48 [==============================] - 25s 527ms/step - loss: 0.3774 - accuracy: 0.8668 - val_loss: 0.4151 - val_accuracy: 0.9062\n",
            "Epoch 13/25\n",
            "48/48 [==============================] - ETA: 0s - loss: 0.3226 - accuracy: 0.8857\n",
            "Epoch 00013: val_accuracy did not improve from 0.90625\n",
            "48/48 [==============================] - 23s 470ms/step - loss: 0.3226 - accuracy: 0.8857 - val_loss: 0.4000 - val_accuracy: 0.8203\n",
            "Epoch 14/25\n",
            "48/48 [==============================] - ETA: 0s - loss: 0.3454 - accuracy: 0.8811\n",
            "Epoch 00014: val_accuracy improved from 0.90625 to 0.91406, saving model to best_model.h5\n",
            "48/48 [==============================] - 25s 511ms/step - loss: 0.3454 - accuracy: 0.8811 - val_loss: 0.3099 - val_accuracy: 0.9141\n",
            "Epoch 15/25\n",
            "48/48 [==============================] - ETA: 0s - loss: 0.3209 - accuracy: 0.8766\n",
            "Epoch 00015: val_accuracy did not improve from 0.91406\n",
            "48/48 [==============================] - 23s 470ms/step - loss: 0.3209 - accuracy: 0.8766 - val_loss: 0.2629 - val_accuracy: 0.9141\n",
            "Epoch 16/25\n",
            "48/48 [==============================] - ETA: 0s - loss: 0.3380 - accuracy: 0.8798\n",
            "Epoch 00016: val_accuracy did not improve from 0.91406\n",
            "48/48 [==============================] - 21s 447ms/step - loss: 0.3380 - accuracy: 0.8798 - val_loss: 0.4726 - val_accuracy: 0.8047\n",
            "Epoch 17/25\n",
            "48/48 [==============================] - ETA: 0s - loss: 0.2795 - accuracy: 0.9053\n",
            "Epoch 00017: val_accuracy did not improve from 0.91406\n",
            "\n",
            "Epoch 00017: ReduceLROnPlateau reducing learning rate to 4.999999873689376e-06.\n",
            "48/48 [==============================] - 22s 451ms/step - loss: 0.2795 - accuracy: 0.9053 - val_loss: 0.3037 - val_accuracy: 0.8906\n",
            "Epoch 18/25\n",
            "48/48 [==============================] - ETA: 0s - loss: 0.2556 - accuracy: 0.9092\n",
            "Epoch 00018: val_accuracy improved from 0.91406 to 0.97656, saving model to best_model.h5\n",
            "48/48 [==============================] - 24s 502ms/step - loss: 0.2556 - accuracy: 0.9092 - val_loss: 0.1386 - val_accuracy: 0.9766\n",
            "Epoch 19/25\n",
            "48/48 [==============================] - ETA: 0s - loss: 0.2635 - accuracy: 0.9099\n",
            "Epoch 00019: val_accuracy did not improve from 0.97656\n",
            "48/48 [==============================] - 23s 476ms/step - loss: 0.2635 - accuracy: 0.9099 - val_loss: 0.2240 - val_accuracy: 0.9531\n",
            "Epoch 20/25\n",
            "48/48 [==============================] - ETA: 0s - loss: 0.2454 - accuracy: 0.9164\n",
            "Epoch 00020: val_accuracy did not improve from 0.97656\n",
            "48/48 [==============================] - 21s 446ms/step - loss: 0.2454 - accuracy: 0.9164 - val_loss: 0.1447 - val_accuracy: 0.9531\n",
            "Epoch 21/25\n",
            "48/48 [==============================] - ETA: 0s - loss: 0.2609 - accuracy: 0.9053\n",
            "Epoch 00021: val_accuracy did not improve from 0.97656\n",
            "\n",
            "Epoch 00021: ReduceLROnPlateau reducing learning rate to 3e-06.\n",
            "48/48 [==============================] - 21s 445ms/step - loss: 0.2609 - accuracy: 0.9053 - val_loss: 0.1954 - val_accuracy: 0.9297\n",
            "Epoch 22/25\n",
            "48/48 [==============================] - ETA: 0s - loss: 0.2426 - accuracy: 0.9190\n",
            "Epoch 00022: val_accuracy did not improve from 0.97656\n",
            "48/48 [==============================] - 21s 447ms/step - loss: 0.2426 - accuracy: 0.9190 - val_loss: 0.1690 - val_accuracy: 0.9453\n",
            "Epoch 23/25\n",
            "48/48 [==============================] - ETA: 0s - loss: 0.2427 - accuracy: 0.9138\n",
            "Epoch 00023: val_accuracy did not improve from 0.97656\n",
            "48/48 [==============================] - 21s 447ms/step - loss: 0.2427 - accuracy: 0.9138 - val_loss: 0.1970 - val_accuracy: 0.9375\n",
            "Epoch 24/25\n",
            "48/48 [==============================] - ETA: 0s - loss: 0.2198 - accuracy: 0.9295\n",
            "Epoch 00024: val_accuracy did not improve from 0.97656\n",
            "\n",
            "Epoch 00024: ReduceLROnPlateau reducing learning rate to 3e-06.\n",
            "48/48 [==============================] - 21s 445ms/step - loss: 0.2198 - accuracy: 0.9295 - val_loss: 0.2242 - val_accuracy: 0.9453\n",
            "Epoch 25/25\n",
            "48/48 [==============================] - ETA: 0s - loss: 0.2366 - accuracy: 0.9164\n",
            "Epoch 00025: val_accuracy did not improve from 0.97656\n",
            "48/48 [==============================] - 21s 445ms/step - loss: 0.2366 - accuracy: 0.9164 - val_loss: 0.1894 - val_accuracy: 0.9375\n",
            "training time:  593.4992189407349 s\n"
          ],
          "name": "stdout"
        }
      ]
    },
    {
      "cell_type": "markdown",
      "metadata": {
        "id": "qk59kdzr5AMT"
      },
      "source": [
        "# **Evaluate**"
      ]
    },
    {
      "cell_type": "code",
      "metadata": {
        "id": "4K8XoKgx5do6"
      },
      "source": [
        "# IMPORT SEMUA PAKET YANG ANDA PERLUKAN UNTUK MENGEVALUASI MODEL DISINI\n",
        "%matplotlib inline\n",
        "import matplotlib.pyplot as plt\n",
        "import numpy as np\n",
        "from keras.models import load_model\n",
        "from sklearn.metrics import classification_report, confusion_matrix"
      ],
      "execution_count": 159,
      "outputs": []
    },
    {
      "cell_type": "code",
      "metadata": {
        "id": "GVaP9dbG4wc9",
        "outputId": "e3722da2-eafa-4535-a35d-9822031d5304",
        "colab": {
          "base_uri": "https://localhost:8080/"
        }
      },
      "source": [
        "# TULIS CODE UNTUK EVALUASI MODEL DISINI\n",
        "\n",
        "model.load_weights(best_model_path)\n",
        "\n",
        "ypred = model.predict(test_gen)\n",
        "predictions = np.argmax(ypred, axis = 1)\n",
        "# labels = (pred > 0.5).astype(np.int)\n",
        "print(classification_report(test_gen.classes,predictions))"
      ],
      "execution_count": 146,
      "outputs": [
        {
          "output_type": "stream",
          "text": [
            "              precision    recall  f1-score   support\n",
            "\n",
            "           0       0.91      0.94      0.92       108\n",
            "           1       0.92      0.96      0.94       110\n",
            "           2       0.98      0.91      0.94       113\n",
            "\n",
            "    accuracy                           0.94       331\n",
            "   macro avg       0.94      0.94      0.94       331\n",
            "weighted avg       0.94      0.94      0.94       331\n",
            "\n"
          ],
          "name": "stdout"
        }
      ]
    },
    {
      "cell_type": "code",
      "metadata": {
        "id": "XjOQkFIUR1oZ",
        "outputId": "f19d10b8-ccc0-4290-a82e-cac23137687b",
        "colab": {
          "base_uri": "https://localhost:8080/",
          "height": 382
        }
      },
      "source": [
        "import itertools\n",
        "def plot_confusion_matrix(cm, classes,\n",
        "                          normalize=False,\n",
        "                          title='Confusion matrix',\n",
        "                          cmap=plt.cm.Blues):\n",
        "    if normalize:\n",
        "        cm = cm.astype('float') / cm.sum(axis=1)[:, np.newaxis]\n",
        "        print(\"Normalized confusion matrix\")\n",
        "    else:\n",
        "        print('Confusion matrix, without normalization')\n",
        "\n",
        "    print(cm)\n",
        "\n",
        "    plt.imshow(cm, interpolation='nearest', cmap=cmap)\n",
        "    plt.title(title)\n",
        "    plt.colorbar()\n",
        "    tick_marks = np.arange(len(classes))\n",
        "    plt.xticks(tick_marks, classes, rotation=45)\n",
        "    plt.yticks(tick_marks, classes)\n",
        "\n",
        "    fmt = '.2f' if normalize else 'd'\n",
        "    thresh = cm.max() / 2.\n",
        "    for i, j in itertools.product(range(cm.shape[0]), range(cm.shape[1])):\n",
        "        plt.text(j, i, format(cm[i, j], fmt),\n",
        "                 horizontalalignment=\"center\",\n",
        "                 color=\"white\" if cm[i, j] > thresh else \"black\")\n",
        "\n",
        "    plt.tight_layout()\n",
        "    plt.ylabel('True label')\n",
        "    plt.xlabel('Predicted label')\n",
        "\n",
        "cnf_matrix=confusion_matrix(test_gen.classes,predictions)\n",
        "plot_confusion_matrix(cnf_matrix, classes=test_gen.class_indices)"
      ],
      "execution_count": 190,
      "outputs": [
        {
          "output_type": "stream",
          "text": [
            "Confusion matrix, without normalization\n",
            "[[103   2   3]\n",
            " [  7 101   2]\n",
            " [  4   1 108]]\n"
          ],
          "name": "stdout"
        },
        {
          "output_type": "display_data",
          "data": {
            "image/png": "[encoded data removed]",
            "text/plain": [
              "<Figure size 432x288 with 2 Axes>"
            ]
          },
          "metadata": {
            "tags": []
          }
        }
      ]
    },
    {
      "cell_type": "code",
      "metadata": {
        "id": "d5ZkO3yN2c08",
        "outputId": "0cbfd10d-1dca-4035-9676-c2ced8f913d8",
        "colab": {
          "base_uri": "https://localhost:8080/",
          "height": 581
        }
      },
      "source": [
        "# TULIS CODE UNTUK PLOT EVALUASI MODEL DISINI\n",
        "plt.style.use(\"ggplot\")\n",
        "\n",
        "plt.plot(np.arange(0, 25), H.history[\"loss\"], label=\"train_loss\")\n",
        "plt.plot(np.arange(0, 25), H.history[\"val_loss\"], label=\"val_loss\")\n",
        "plt.title(\"Loss Plot\")\n",
        "plt.xlabel(\"Epoch #\")\n",
        "plt.ylabel(\"Loss\")\n",
        "plt.show()\n",
        "\n",
        "plt.plot(np.arange(0, 25), H.history[\"accuracy\"], label=\"train_acc\")\n",
        "plt.plot(np.arange(0, 25), H.history[\"val_accuracy\"], label=\"val_acc\")\n",
        "plt.title(\"Accuracy Plot\")\n",
        "plt.xlabel(\"Epoch #\")\n",
        "plt.ylabel(\"Accuracy\")\n",
        "plt.legend()\n",
        "plt.show()"
      ],
      "execution_count": 167,
      "outputs": [
        {
          "output_type": "display_data",
          "data": {
            "image/png": "[encoded data removed]",
            "text/plain": [
              "<Figure size 432x288 with 1 Axes>"
            ]
          },
          "metadata": {
            "tags": []
          }
        },
        {
          "output_type": "display_data",
          "data": {
            "image/png": "[encoded data removed]",
            "text/plain": [
              "<Figure size 432x288 with 1 Axes>"
            ]
          },
          "metadata": {
            "tags": []
          }
        }
      ]
    },
    {
      "cell_type": "code",
      "metadata": {
        "id": "9FZBVsIH46Bb",
        "outputId": "ca7dfcae-f2d2-4be6-9ec2-b14317676794",
        "colab": {
          "base_uri": "https://localhost:8080/",
          "height": 299
        }
      },
      "source": [
        "# TULIS CODE UNTUK PREDIKSI DATA TEST DISINI\n",
        "\n",
        "import PIL\n",
        "\n",
        "def predictModel(image_path):\n",
        "    # Load and resize the image using PIL.\n",
        "    img = PIL.Image.open(image_path)\n",
        "    img_resized = img.resize((224, 224), PIL.Image.LANCZOS)\n",
        "\n",
        "    # Plot the image.\n",
        "    plt.imshow(img_resized)\n",
        "\n",
        "    # Convert the PIL image to a numpy-array with the proper shape.\n",
        "    img_array = np.expand_dims(np.array(img_resized), axis=0)\n",
        "\n",
        "    pred_coba = model.predict_classes(img_array)\n",
        "    ahoy = model.predict(img_array)\n",
        "    \n",
        "    labels = np.argmax(ahoy, axis=1)\n",
        "\n",
        "    plt.title(f\"Pred : {ahoy}\\nLabels : {labels}\")\n",
        "\n",
        "predictModel(\"/content/drive/My Drive/modul3/rockpaperscissors/test/rock/3wrX8EawcOolzrAY.png\")\n",
        "\n",
        "# num_pred=10\n",
        "# for i in range (num_pred):\n",
        "#   a=np.random(os.walk(test_path))\n",
        "#   predictModel(a)"
      ],
      "execution_count": 196,
      "outputs": [
        {
          "output_type": "display_data",
          "data": {
            "image/png": "[encoded data removed]",
            "text/plain": [
              "<Figure size 432x288 with 1 Axes>"
            ]
          },
          "metadata": {
            "tags": []
          }
        }
      ]
    },
    {
      "cell_type": "code",
      "metadata": {
        "id": "c8DQT_zyX8uf",
        "outputId": "80779525-d2d8-4083-ffb5-e7a275fbbd9b",
        "colab": {
          "base_uri": "https://localhost:8080/",
          "height": 265
        }
      },
      "source": [
        "import random\n",
        "img = random.choice(test_path)\n",
        "plt.plot(img)\n",
        "plt.show()"
      ],
      "execution_count": 191,
      "outputs": [
        {
          "output_type": "display_data",
          "data": {
            "image/png": "[encoded data removed]",
            "text/plain": [
              "<Figure size 432x288 with 1 Axes>"
            ]
          },
          "metadata": {
            "tags": []
          }
        }
      ]
    }
  ]
}
